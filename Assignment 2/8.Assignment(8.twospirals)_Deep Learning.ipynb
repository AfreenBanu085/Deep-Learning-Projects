{
 "cells": [
  {
   "cell_type": "markdown",
   "id": "54e17fe0",
   "metadata": {},
   "source": [
    "### Documentation:\n",
    "#### Data Set:8.twospirals\n",
    "\n",
    "\n",
    "### Data Description:\n",
    "- The dataset consists of three columns and 2000 rows which includes two feature columns and one label column. \n",
    "- Features columns are in the form of float and continuous values ranges from [-9.462311 to 9.659887] and [-11.017154  to  11.227412] and the means are at [0.930868 and 1.855540].\n",
    "- Whereas label is in the form discreate numerical float values that includes [0 and 1], 50% of the data consists of 0 and rest   consists of 1 as labels. \n",
    "- There are zero duplicates and no null values consists in the dataset. \n",
    "- Pattern that is formed by the input features is two spiral. \n",
    "- That means one spiral is indicating 0 and another one is 1.\n"
   ]
  },
  {
   "cell_type": "markdown",
   "id": "d433b852",
   "metadata": {},
   "source": [
    "### Importing Libraries: The required libraries are imported at the beginning of the code.\n"
   ]
  },
  {
   "cell_type": "code",
   "execution_count": 176,
   "id": "1c9939b7",
   "metadata": {},
   "outputs": [],
   "source": [
    "import pandas as pd\n",
    "import numpy as np\n",
    "import matplotlib.pyplot as plt\n",
    "import seaborn as sns "
   ]
  },
  {
   "cell_type": "markdown",
   "id": "1af25ee6",
   "metadata": {},
   "source": [
    "### Loading the Dataset:\n",
    "The code reads a CSV file using Pandas, assuming the file is located at \"C:\\\\Users\\\\dell\\\\Downloads\\\\Deep Learning data\\\\8.twospirals.csv\". The dataset is stored in the DataFrame df."
   ]
  },
  {
   "cell_type": "code",
   "execution_count": 178,
   "id": "7dc0efaa",
   "metadata": {},
   "outputs": [
    {
     "data": {
      "text/html": [
       "<div>\n",
       "<style scoped>\n",
       "    .dataframe tbody tr th:only-of-type {\n",
       "        vertical-align: middle;\n",
       "    }\n",
       "\n",
       "    .dataframe tbody tr th {\n",
       "        vertical-align: top;\n",
       "    }\n",
       "\n",
       "    .dataframe thead th {\n",
       "        text-align: right;\n",
       "    }\n",
       "</style>\n",
       "<table border=\"1\" class=\"dataframe\">\n",
       "  <thead>\n",
       "    <tr style=\"text-align: right;\">\n",
       "      <th></th>\n",
       "      <th>0</th>\n",
       "      <th>1</th>\n",
       "      <th>2</th>\n",
       "    </tr>\n",
       "  </thead>\n",
       "  <tbody>\n",
       "    <tr>\n",
       "      <th>0</th>\n",
       "      <td>-2.543456</td>\n",
       "      <td>-10.816358</td>\n",
       "      <td>0</td>\n",
       "    </tr>\n",
       "    <tr>\n",
       "      <th>1</th>\n",
       "      <td>9.434466</td>\n",
       "      <td>-2.572000</td>\n",
       "      <td>0</td>\n",
       "    </tr>\n",
       "    <tr>\n",
       "      <th>2</th>\n",
       "      <td>3.368646</td>\n",
       "      <td>-10.194671</td>\n",
       "      <td>0</td>\n",
       "    </tr>\n",
       "    <tr>\n",
       "      <th>3</th>\n",
       "      <td>1.341407</td>\n",
       "      <td>-4.204140</td>\n",
       "      <td>0</td>\n",
       "    </tr>\n",
       "    <tr>\n",
       "      <th>4</th>\n",
       "      <td>9.547758</td>\n",
       "      <td>-2.220580</td>\n",
       "      <td>0</td>\n",
       "    </tr>\n",
       "  </tbody>\n",
       "</table>\n",
       "</div>"
      ],
      "text/plain": [
       "          0          1  2\n",
       "0 -2.543456 -10.816358  0\n",
       "1  9.434466  -2.572000  0\n",
       "2  3.368646 -10.194671  0\n",
       "3  1.341407  -4.204140  0\n",
       "4  9.547758  -2.220580  0"
      ]
     },
     "execution_count": 178,
     "metadata": {},
     "output_type": "execute_result"
    }
   ],
   "source": [
    "df = pd.read_csv(\"C:\\\\Users\\\\dell\\\\Downloads\\\\Deep Learning data\\\\8.twospirals.csv\",header = None)\n",
    "df.head()"
   ]
  },
  {
   "cell_type": "markdown",
   "id": "c69fa1c1",
   "metadata": {},
   "source": [
    "#### Gives the dimensions of the dataset (number of rows, number of columns).\n"
   ]
  },
  {
   "cell_type": "code",
   "execution_count": 179,
   "id": "08089a8c",
   "metadata": {},
   "outputs": [
    {
     "data": {
      "text/plain": [
       "(2000, 3)"
      ]
     },
     "execution_count": 179,
     "metadata": {},
     "output_type": "execute_result"
    }
   ],
   "source": [
    "df.shape"
   ]
  },
  {
   "cell_type": "markdown",
   "id": "91f9e945",
   "metadata": {},
   "source": [
    "#### Provides information about the dataset, including the data types of each column and the number of non-null values."
   ]
  },
  {
   "cell_type": "code",
   "execution_count": 180,
   "id": "b71d4022",
   "metadata": {},
   "outputs": [
    {
     "name": "stdout",
     "output_type": "stream",
     "text": [
      "<class 'pandas.core.frame.DataFrame'>\n",
      "RangeIndex: 2000 entries, 0 to 1999\n",
      "Data columns (total 3 columns):\n",
      " #   Column  Non-Null Count  Dtype  \n",
      "---  ------  --------------  -----  \n",
      " 0   0       2000 non-null   float64\n",
      " 1   1       2000 non-null   float64\n",
      " 2   2       2000 non-null   int64  \n",
      "dtypes: float64(2), int64(1)\n",
      "memory usage: 47.0 KB\n"
     ]
    }
   ],
   "source": [
    "df.info()"
   ]
  },
  {
   "cell_type": "markdown",
   "id": "e41feb7b",
   "metadata": {},
   "source": [
    "#### Generates descriptive statistics of the dataset, such as count, mean, standard deviation, minimum, and maximum values for each numerical column. "
   ]
  },
  {
   "cell_type": "code",
   "execution_count": 181,
   "id": "ddf9b5dd",
   "metadata": {},
   "outputs": [
    {
     "data": {
      "text/html": [
       "<div>\n",
       "<style scoped>\n",
       "    .dataframe tbody tr th:only-of-type {\n",
       "        vertical-align: middle;\n",
       "    }\n",
       "\n",
       "    .dataframe tbody tr th {\n",
       "        vertical-align: top;\n",
       "    }\n",
       "\n",
       "    .dataframe thead th {\n",
       "        text-align: right;\n",
       "    }\n",
       "</style>\n",
       "<table border=\"1\" class=\"dataframe\">\n",
       "  <thead>\n",
       "    <tr style=\"text-align: right;\">\n",
       "      <th></th>\n",
       "      <th>0</th>\n",
       "      <th>1</th>\n",
       "      <th>2</th>\n",
       "    </tr>\n",
       "  </thead>\n",
       "  <tbody>\n",
       "    <tr>\n",
       "      <th>count</th>\n",
       "      <td>2000.000000</td>\n",
       "      <td>2000.000000</td>\n",
       "      <td>2000.000000</td>\n",
       "    </tr>\n",
       "    <tr>\n",
       "      <th>mean</th>\n",
       "      <td>0.035789</td>\n",
       "      <td>0.170252</td>\n",
       "      <td>0.500000</td>\n",
       "    </tr>\n",
       "    <tr>\n",
       "      <th>std</th>\n",
       "      <td>5.580847</td>\n",
       "      <td>6.480102</td>\n",
       "      <td>0.500125</td>\n",
       "    </tr>\n",
       "    <tr>\n",
       "      <th>min</th>\n",
       "      <td>-9.462311</td>\n",
       "      <td>-11.017154</td>\n",
       "      <td>0.000000</td>\n",
       "    </tr>\n",
       "    <tr>\n",
       "      <th>25%</th>\n",
       "      <td>-4.589943</td>\n",
       "      <td>-4.790316</td>\n",
       "      <td>0.000000</td>\n",
       "    </tr>\n",
       "    <tr>\n",
       "      <th>50%</th>\n",
       "      <td>-0.126161</td>\n",
       "      <td>0.039630</td>\n",
       "      <td>0.500000</td>\n",
       "    </tr>\n",
       "    <tr>\n",
       "      <th>75%</th>\n",
       "      <td>4.835311</td>\n",
       "      <td>5.460470</td>\n",
       "      <td>1.000000</td>\n",
       "    </tr>\n",
       "    <tr>\n",
       "      <th>max</th>\n",
       "      <td>9.659887</td>\n",
       "      <td>11.227412</td>\n",
       "      <td>1.000000</td>\n",
       "    </tr>\n",
       "  </tbody>\n",
       "</table>\n",
       "</div>"
      ],
      "text/plain": [
       "                 0            1            2\n",
       "count  2000.000000  2000.000000  2000.000000\n",
       "mean      0.035789     0.170252     0.500000\n",
       "std       5.580847     6.480102     0.500125\n",
       "min      -9.462311   -11.017154     0.000000\n",
       "25%      -4.589943    -4.790316     0.000000\n",
       "50%      -0.126161     0.039630     0.500000\n",
       "75%       4.835311     5.460470     1.000000\n",
       "max       9.659887    11.227412     1.000000"
      ]
     },
     "execution_count": 181,
     "metadata": {},
     "output_type": "execute_result"
    }
   ],
   "source": [
    "df.describe()"
   ]
  },
  {
   "cell_type": "code",
   "execution_count": 80,
   "id": "dd26d33b",
   "metadata": {},
   "outputs": [
    {
     "data": {
      "text/plain": [
       "0       0\n",
       "1       0\n",
       "2       0\n",
       "3       0\n",
       "4       0\n",
       "       ..\n",
       "1995    1\n",
       "1996    1\n",
       "1997    1\n",
       "1998    1\n",
       "1999    1\n",
       "Name: 2, Length: 2000, dtype: int64"
      ]
     },
     "execution_count": 80,
     "metadata": {},
     "output_type": "execute_result"
    }
   ],
   "source": [
    "df[2]"
   ]
  },
  {
   "cell_type": "code",
   "execution_count": 182,
   "id": "3cd3e587",
   "metadata": {},
   "outputs": [
    {
     "data": {
      "text/plain": [
       "0"
      ]
     },
     "execution_count": 182,
     "metadata": {},
     "output_type": "execute_result"
    }
   ],
   "source": [
    "df.duplicated().sum()"
   ]
  },
  {
   "cell_type": "code",
   "execution_count": 183,
   "id": "857c6f99",
   "metadata": {},
   "outputs": [
    {
     "data": {
      "text/plain": [
       "0    0\n",
       "1    0\n",
       "2    0\n",
       "dtype: int64"
      ]
     },
     "execution_count": 183,
     "metadata": {},
     "output_type": "execute_result"
    }
   ],
   "source": [
    "df.isna().sum()"
   ]
  },
  {
   "cell_type": "code",
   "execution_count": 184,
   "id": "f086fe7b",
   "metadata": {},
   "outputs": [
    {
     "data": {
      "text/plain": [
       "0    1000\n",
       "1    1000\n",
       "Name: 2, dtype: int64"
      ]
     },
     "execution_count": 184,
     "metadata": {},
     "output_type": "execute_result"
    }
   ],
   "source": [
    "df[2].value_counts()"
   ]
  },
  {
   "cell_type": "markdown",
   "id": "06607dd3",
   "metadata": {},
   "source": [
    "### Data Visualization:\n",
    "A scatter plot is created using Seaborn to visualize the data points, where the x-axis represents df[0], the y-axis represents df[1], and the color of the points is determined by df[2]"
   ]
  },
  {
   "cell_type": "code",
   "execution_count": 81,
   "id": "bcbdf236",
   "metadata": {},
   "outputs": [
    {
     "name": "stderr",
     "output_type": "stream",
     "text": [
      "C:\\Users\\dell\\anaconda3\\lib\\site-packages\\seaborn\\_decorators.py:36: FutureWarning: Pass the following variables as keyword args: x, y. From version 0.12, the only valid positional argument will be `data`, and passing other arguments without an explicit keyword will result in an error or misinterpretation.\n",
      "  warnings.warn(\n"
     ]
    },
    {
     "data": {
      "text/plain": [
       "<AxesSubplot:xlabel='0', ylabel='1'>"
      ]
     },
     "execution_count": 81,
     "metadata": {},
     "output_type": "execute_result"
    },
    {
     "data": {
      "image/png": "[encoded data removed]",
      "text/plain": [
       "<Figure size 432x288 with 1 Axes>"
      ]
     },
     "metadata": {
      "needs_background": "light"
     },
     "output_type": "display_data"
    }
   ],
   "source": [
    "sns.scatterplot(df[0],df[1],hue = df[2])"
   ]
  },
  {
   "cell_type": "markdown",
   "id": "e534600c",
   "metadata": {},
   "source": [
    "### Train-Test Split:\n",
    "The dataset is split into training and testing sets using the train_test_split function from scikit-learn. The features (x_train, x_test) consist of columns 0 and 1 from the DataFrame, while the target variables (y_train, y_test) correspond to column 2. The testing set size is set to 10% of the total dataset."
   ]
  },
  {
   "cell_type": "code",
   "execution_count": 82,
   "id": "52f1dbb2",
   "metadata": {},
   "outputs": [],
   "source": [
    "from sklearn.model_selection import train_test_split\n",
    "x_train,x_test,y_train,y_test=train_test_split(df[[0,1]],df[2],test_size=0.1)"
   ]
  },
  {
   "cell_type": "markdown",
   "id": "196352cf",
   "metadata": {},
   "source": [
    "### Data Preprocessing:\n",
    "The features are standardized using scikit-learn's StandardScaler. The fit_transform method is applied to the training set (x_train), and the transform method is applied to the testing set (x_test)."
   ]
  },
  {
   "cell_type": "code",
   "execution_count": 84,
   "id": "4553949f",
   "metadata": {},
   "outputs": [],
   "source": [
    "from sklearn.preprocessing import StandardScaler\n",
    "std=StandardScaler()\n",
    "x_trainf=std.fit_transform(x_train)\n",
    "x_testf=std.transform(x_test)"
   ]
  },
  {
   "cell_type": "markdown",
   "id": "a1c50997",
   "metadata": {},
   "source": [
    "### Importing necessary libraries:\n",
    "- TensorFlow and Keras are libraries.\n",
    "- Sequential is a linear stack of neural network layers.\n",
    "- Dense represents a fully connected layer."
   ]
  },
  {
   "cell_type": "code",
   "execution_count": 83,
   "id": "ffc007aa",
   "metadata": {},
   "outputs": [],
   "source": [
    "import tensorflow\n",
    "from tensorflow import keras\n",
    "from keras.models import Sequential\n",
    "from keras.layers import Dense"
   ]
  },
  {
   "cell_type": "markdown",
   "id": "e844f07e",
   "metadata": {},
   "source": [
    "### Model Architecture:\n",
    "\n",
    "- The model is defined as a sequential model, which means the layers are stacked sequentially.\n",
    "- The input layer has 2 neurons, and the first hidden layer has 5 neurons with the ReLU activation function.\n",
    "- The subsequent hidden layers have 4, 3, and 2 neurons, respectively, all using the ReLU activation function.\n",
    "- The output layer has 1 neuron and uses the sigmoid activation function."
   ]
  },
  {
   "cell_type": "code",
   "execution_count": 147,
   "id": "b6dcaf51",
   "metadata": {},
   "outputs": [],
   "source": [
    "model=Sequential()\n",
    "model.add(Dense(5,activation=\"relu\",kernel_initializer='he_uniform',input_dim=2))\n",
    "\n",
    "model.add(Dense(4,activation=\"relu\",kernel_initializer='he_uniform'))\n",
    "\n",
    "model.add(Dense(3,activation=\"relu\",kernel_initializer='he_uniform'))\n",
    "\n",
    "model.add(Dense(2,activation=\"relu\",kernel_initializer='he_uniform'))\n",
    "\n",
    "model.add(Dense(1,activation=\"sigmoid\"))"
   ]
  },
  {
   "cell_type": "markdown",
   "id": "15cec235",
   "metadata": {},
   "source": [
    "### Model Initialization:\n",
    "\n",
    "The weights of the model are initialized using the He uniform initializer, which is a technique for initializing the weights in a way that helps the model converge faster."
   ]
  },
  {
   "cell_type": "code",
   "execution_count": 148,
   "id": "6cfbc7af",
   "metadata": {},
   "outputs": [
    {
     "data": {
      "text/plain": [
       "[array([[-1.1533656 , -1.2225633 , -1.2133098 ,  0.3624357 ,  1.6416038 ],\n",
       "        [-0.52065086,  0.57056415, -1.3992074 ,  1.0920008 , -0.72188365]],\n",
       "       dtype=float32),\n",
       " array([0., 0., 0., 0., 0.], dtype=float32),\n",
       " array([[-0.47312593, -0.16232646,  0.19244063, -0.10145247],\n",
       "        [ 0.51666236,  0.50048053, -0.668872  , -0.59726524],\n",
       "        [-0.49540305,  1.0344863 , -0.17896956, -0.44009674],\n",
       "        [ 0.7780607 ,  0.14308333,  0.8700479 , -0.16837263],\n",
       "        [ 0.67589104,  0.01878572, -1.0802395 , -0.9917602 ]],\n",
       "       dtype=float32),\n",
       " array([0., 0., 0., 0.], dtype=float32),\n",
       " array([[-1.0628921 ,  0.76669693,  0.9805409 ],\n",
       "        [ 0.19071782,  0.4670831 , -0.06292117],\n",
       "        [ 0.6399944 , -0.6111723 , -0.19389486],\n",
       "        [-0.02628803,  0.77927744,  0.30411685]], dtype=float32),\n",
       " array([0., 0., 0.], dtype=float32),\n",
       " array([[-0.88546413, -0.21146357],\n",
       "        [-1.0796872 ,  1.1673058 ],\n",
       "        [ 0.60021055,  0.79602754]], dtype=float32),\n",
       " array([0., 0.], dtype=float32),\n",
       " array([[ 0.39556396],\n",
       "        [-0.06213486]], dtype=float32),\n",
       " array([0.], dtype=float32)]"
      ]
     },
     "execution_count": 148,
     "metadata": {},
     "output_type": "execute_result"
    }
   ],
   "source": [
    "model.get_weights()"
   ]
  },
  {
   "cell_type": "markdown",
   "id": "f36975f2",
   "metadata": {},
   "source": [
    "### Model Summary:\n",
    "\n",
    "The model.summary() function prints a summary of the model, including the number of parameters in each layer and the total number of parameters."
   ]
  },
  {
   "cell_type": "code",
   "execution_count": 149,
   "id": "aa1450ce",
   "metadata": {},
   "outputs": [
    {
     "name": "stdout",
     "output_type": "stream",
     "text": [
      "Model: \"sequential_12\"\n",
      "_________________________________________________________________\n",
      " Layer (type)                Output Shape              Param #   \n",
      "=================================================================\n",
      " dense_68 (Dense)            (None, 5)                 15        \n",
      "                                                                 \n",
      " dense_69 (Dense)            (None, 4)                 24        \n",
      "                                                                 \n",
      " dense_70 (Dense)            (None, 3)                 15        \n",
      "                                                                 \n",
      " dense_71 (Dense)            (None, 2)                 8         \n",
      "                                                                 \n",
      " dense_72 (Dense)            (None, 1)                 3         \n",
      "                                                                 \n",
      "=================================================================\n",
      "Total params: 65\n",
      "Trainable params: 65\n",
      "Non-trainable params: 0\n",
      "_________________________________________________________________\n"
     ]
    }
   ],
   "source": [
    "model.summary()"
   ]
  },
  {
   "cell_type": "markdown",
   "id": "6d835c33",
   "metadata": {},
   "source": [
    "### Model Compilation:\n",
    "\n",
    "- The model is compiled with the Adam optimizer, which is a popular optimization algorithm for neural networks.\n",
    "- The loss function is set to \"binary_crossentropy\" since the problem is binary classification.\n",
    "- The model will also calculate the accuracy metric during training."
   ]
  },
  {
   "cell_type": "code",
   "execution_count": 150,
   "id": "6e9cb17c",
   "metadata": {},
   "outputs": [],
   "source": [
    "model.compile(optimizer=\"Adam\",loss=\"binary_crossentropy\",metrics=[\"accuracy\"])"
   ]
  },
  {
   "cell_type": "markdown",
   "id": "e76c97f0",
   "metadata": {},
   "source": [
    "### Model Training:\n",
    "\n",
    "- The model.fit() function is used to train the model.\n",
    "- x_trainf and y_train are the training inputs and labels, respectively.\n",
    "- The training is performed for 80 epochs with a batch size of 80, and 30% of the training data is used for validation.\n",
    "- The training history is stored in the history variable."
   ]
  },
  {
   "cell_type": "code",
   "execution_count": 168,
   "id": "0c2060f3",
   "metadata": {},
   "outputs": [
    {
     "name": "stdout",
     "output_type": "stream",
     "text": [
      "Epoch 1/80\n",
      "16/16 [==============================] - 0s 6ms/step - loss: 0.3466 - accuracy: 0.8032 - val_loss: 0.3581 - val_accuracy: 0.7907\n",
      "Epoch 2/80\n",
      "16/16 [==============================] - 0s 4ms/step - loss: 0.3373 - accuracy: 0.8079 - val_loss: 0.3497 - val_accuracy: 0.7944\n",
      "Epoch 3/80\n",
      "16/16 [==============================] - 0s 4ms/step - loss: 0.3289 - accuracy: 0.8159 - val_loss: 0.3418 - val_accuracy: 0.7963\n",
      "Epoch 4/80\n",
      "16/16 [==============================] - 0s 4ms/step - loss: 0.3211 - accuracy: 0.8167 - val_loss: 0.3334 - val_accuracy: 0.8000\n",
      "Epoch 5/80\n",
      "16/16 [==============================] - 0s 4ms/step - loss: 0.3145 - accuracy: 0.8183 - val_loss: 0.3269 - val_accuracy: 0.8019\n",
      "Epoch 6/80\n",
      "16/16 [==============================] - 0s 4ms/step - loss: 0.3065 - accuracy: 0.8206 - val_loss: 0.3189 - val_accuracy: 0.8019\n",
      "Epoch 7/80\n",
      "16/16 [==============================] - 0s 4ms/step - loss: 0.2991 - accuracy: 0.8230 - val_loss: 0.3114 - val_accuracy: 0.8130\n",
      "Epoch 8/80\n",
      "16/16 [==============================] - 0s 4ms/step - loss: 0.2922 - accuracy: 0.8294 - val_loss: 0.3049 - val_accuracy: 0.8204\n",
      "Epoch 9/80\n",
      "16/16 [==============================] - 0s 4ms/step - loss: 0.2859 - accuracy: 0.8317 - val_loss: 0.2996 - val_accuracy: 0.8241\n",
      "Epoch 10/80\n",
      "16/16 [==============================] - 0s 4ms/step - loss: 0.2797 - accuracy: 0.8413 - val_loss: 0.2936 - val_accuracy: 0.8278\n",
      "Epoch 11/80\n",
      "16/16 [==============================] - 0s 4ms/step - loss: 0.2728 - accuracy: 0.8429 - val_loss: 0.2864 - val_accuracy: 0.8352\n",
      "Epoch 12/80\n",
      "16/16 [==============================] - 0s 4ms/step - loss: 0.2657 - accuracy: 0.8532 - val_loss: 0.2788 - val_accuracy: 0.8444\n",
      "Epoch 13/80\n",
      "16/16 [==============================] - 0s 4ms/step - loss: 0.2590 - accuracy: 0.8635 - val_loss: 0.2718 - val_accuracy: 0.8574\n",
      "Epoch 14/80\n",
      "16/16 [==============================] - 0s 4ms/step - loss: 0.2526 - accuracy: 0.8683 - val_loss: 0.2658 - val_accuracy: 0.8611\n",
      "Epoch 15/80\n",
      "16/16 [==============================] - 0s 4ms/step - loss: 0.2474 - accuracy: 0.8690 - val_loss: 0.2607 - val_accuracy: 0.8630\n",
      "Epoch 16/80\n",
      "16/16 [==============================] - 0s 4ms/step - loss: 0.2426 - accuracy: 0.8690 - val_loss: 0.2558 - val_accuracy: 0.8685\n",
      "Epoch 17/80\n",
      "16/16 [==============================] - 0s 4ms/step - loss: 0.2361 - accuracy: 0.8690 - val_loss: 0.2510 - val_accuracy: 0.8667\n",
      "Epoch 18/80\n",
      "16/16 [==============================] - 0s 4ms/step - loss: 0.2284 - accuracy: 0.8746 - val_loss: 0.2459 - val_accuracy: 0.8667\n",
      "Epoch 19/80\n",
      "16/16 [==============================] - 0s 4ms/step - loss: 0.2221 - accuracy: 0.8802 - val_loss: 0.2411 - val_accuracy: 0.8704\n",
      "Epoch 20/80\n",
      "16/16 [==============================] - 0s 4ms/step - loss: 0.2168 - accuracy: 0.8817 - val_loss: 0.2372 - val_accuracy: 0.8704\n",
      "Epoch 21/80\n",
      "16/16 [==============================] - 0s 4ms/step - loss: 0.2121 - accuracy: 0.8857 - val_loss: 0.2324 - val_accuracy: 0.8722\n",
      "Epoch 22/80\n",
      "16/16 [==============================] - 0s 4ms/step - loss: 0.2068 - accuracy: 0.8944 - val_loss: 0.2288 - val_accuracy: 0.9111\n",
      "Epoch 23/80\n",
      "16/16 [==============================] - 0s 4ms/step - loss: 0.2019 - accuracy: 0.9127 - val_loss: 0.2237 - val_accuracy: 0.9130\n",
      "Epoch 24/80\n",
      "16/16 [==============================] - 0s 4ms/step - loss: 0.1975 - accuracy: 0.9175 - val_loss: 0.2195 - val_accuracy: 0.9148\n",
      "Epoch 25/80\n",
      "16/16 [==============================] - 0s 5ms/step - loss: 0.1928 - accuracy: 0.9175 - val_loss: 0.2176 - val_accuracy: 0.9093\n",
      "Epoch 26/80\n",
      "16/16 [==============================] - 0s 5ms/step - loss: 0.1895 - accuracy: 0.9159 - val_loss: 0.2134 - val_accuracy: 0.9130\n",
      "Epoch 27/80\n",
      "16/16 [==============================] - 0s 5ms/step - loss: 0.1864 - accuracy: 0.9151 - val_loss: 0.2094 - val_accuracy: 0.9111\n",
      "Epoch 28/80\n",
      "16/16 [==============================] - 0s 5ms/step - loss: 0.1829 - accuracy: 0.9159 - val_loss: 0.2072 - val_accuracy: 0.9111\n",
      "Epoch 29/80\n",
      "16/16 [==============================] - 0s 5ms/step - loss: 0.1804 - accuracy: 0.9159 - val_loss: 0.2034 - val_accuracy: 0.9111\n",
      "Epoch 30/80\n",
      "16/16 [==============================] - 0s 4ms/step - loss: 0.1773 - accuracy: 0.9159 - val_loss: 0.2009 - val_accuracy: 0.9111\n",
      "Epoch 31/80\n",
      "16/16 [==============================] - 0s 5ms/step - loss: 0.1753 - accuracy: 0.9151 - val_loss: 0.1998 - val_accuracy: 0.9130\n",
      "Epoch 32/80\n",
      "16/16 [==============================] - 0s 4ms/step - loss: 0.1719 - accuracy: 0.9183 - val_loss: 0.1964 - val_accuracy: 0.9130\n",
      "Epoch 33/80\n",
      "16/16 [==============================] - 0s 5ms/step - loss: 0.1693 - accuracy: 0.9167 - val_loss: 0.1936 - val_accuracy: 0.9130\n",
      "Epoch 34/80\n",
      "16/16 [==============================] - 0s 5ms/step - loss: 0.1673 - accuracy: 0.9206 - val_loss: 0.1920 - val_accuracy: 0.9185\n",
      "Epoch 35/80\n",
      "16/16 [==============================] - 0s 5ms/step - loss: 0.1645 - accuracy: 0.9310 - val_loss: 0.1892 - val_accuracy: 0.9278\n",
      "Epoch 36/80\n",
      "16/16 [==============================] - 0s 5ms/step - loss: 0.1623 - accuracy: 0.9397 - val_loss: 0.1879 - val_accuracy: 0.9315\n",
      "Epoch 37/80\n",
      "16/16 [==============================] - 0s 4ms/step - loss: 0.1601 - accuracy: 0.9468 - val_loss: 0.1860 - val_accuracy: 0.9315\n",
      "Epoch 38/80\n",
      "16/16 [==============================] - 0s 5ms/step - loss: 0.1581 - accuracy: 0.9484 - val_loss: 0.1834 - val_accuracy: 0.9333\n",
      "Epoch 39/80\n",
      "16/16 [==============================] - 0s 4ms/step - loss: 0.1569 - accuracy: 0.9460 - val_loss: 0.1830 - val_accuracy: 0.9352\n",
      "Epoch 40/80\n",
      "16/16 [==============================] - 0s 4ms/step - loss: 0.1538 - accuracy: 0.9460 - val_loss: 0.1802 - val_accuracy: 0.9407\n",
      "Epoch 41/80\n",
      "16/16 [==============================] - 0s 4ms/step - loss: 0.1518 - accuracy: 0.9500 - val_loss: 0.1776 - val_accuracy: 0.9407\n",
      "Epoch 42/80\n",
      "16/16 [==============================] - 0s 5ms/step - loss: 0.1493 - accuracy: 0.9460 - val_loss: 0.1769 - val_accuracy: 0.9407\n",
      "Epoch 43/80\n",
      "16/16 [==============================] - 0s 4ms/step - loss: 0.1478 - accuracy: 0.9476 - val_loss: 0.1741 - val_accuracy: 0.9407\n",
      "Epoch 44/80\n",
      "16/16 [==============================] - 0s 4ms/step - loss: 0.1450 - accuracy: 0.9476 - val_loss: 0.1737 - val_accuracy: 0.9407\n",
      "Epoch 45/80\n",
      "16/16 [==============================] - 0s 4ms/step - loss: 0.1433 - accuracy: 0.9484 - val_loss: 0.1715 - val_accuracy: 0.9444\n",
      "Epoch 46/80\n",
      "16/16 [==============================] - 0s 4ms/step - loss: 0.1412 - accuracy: 0.9500 - val_loss: 0.1702 - val_accuracy: 0.9444\n",
      "Epoch 47/80\n",
      "16/16 [==============================] - 0s 4ms/step - loss: 0.1404 - accuracy: 0.9500 - val_loss: 0.1674 - val_accuracy: 0.9444\n",
      "Epoch 48/80\n",
      "16/16 [==============================] - 0s 4ms/step - loss: 0.1375 - accuracy: 0.9524 - val_loss: 0.1667 - val_accuracy: 0.9500\n",
      "Epoch 49/80\n",
      "16/16 [==============================] - 0s 4ms/step - loss: 0.1357 - accuracy: 0.9532 - val_loss: 0.1656 - val_accuracy: 0.9519\n",
      "Epoch 50/80\n",
      "16/16 [==============================] - 0s 4ms/step - loss: 0.1337 - accuracy: 0.9563 - val_loss: 0.1625 - val_accuracy: 0.9519\n",
      "Epoch 51/80\n",
      "16/16 [==============================] - 0s 4ms/step - loss: 0.1318 - accuracy: 0.9587 - val_loss: 0.1610 - val_accuracy: 0.9556\n",
      "Epoch 52/80\n",
      "16/16 [==============================] - 0s 4ms/step - loss: 0.1302 - accuracy: 0.9571 - val_loss: 0.1605 - val_accuracy: 0.9537\n",
      "Epoch 53/80\n",
      "16/16 [==============================] - 0s 5ms/step - loss: 0.1277 - accuracy: 0.9611 - val_loss: 0.1566 - val_accuracy: 0.9574\n",
      "Epoch 54/80\n",
      "16/16 [==============================] - 0s 4ms/step - loss: 0.1266 - accuracy: 0.9603 - val_loss: 0.1537 - val_accuracy: 0.9593\n",
      "Epoch 55/80\n",
      "16/16 [==============================] - 0s 4ms/step - loss: 0.1242 - accuracy: 0.9579 - val_loss: 0.1550 - val_accuracy: 0.9537\n",
      "Epoch 56/80\n",
      "16/16 [==============================] - 0s 5ms/step - loss: 0.1224 - accuracy: 0.9619 - val_loss: 0.1526 - val_accuracy: 0.9574\n",
      "Epoch 57/80\n",
      "16/16 [==============================] - 0s 4ms/step - loss: 0.1203 - accuracy: 0.9603 - val_loss: 0.1489 - val_accuracy: 0.9611\n",
      "Epoch 58/80\n",
      "16/16 [==============================] - 0s 4ms/step - loss: 0.1184 - accuracy: 0.9635 - val_loss: 0.1474 - val_accuracy: 0.9648\n",
      "Epoch 59/80\n",
      "16/16 [==============================] - 0s 4ms/step - loss: 0.1169 - accuracy: 0.9635 - val_loss: 0.1468 - val_accuracy: 0.9611\n",
      "Epoch 60/80\n",
      "16/16 [==============================] - 0s 4ms/step - loss: 0.1154 - accuracy: 0.9659 - val_loss: 0.1445 - val_accuracy: 0.9611\n",
      "Epoch 61/80\n",
      "16/16 [==============================] - 0s 4ms/step - loss: 0.1135 - accuracy: 0.9651 - val_loss: 0.1430 - val_accuracy: 0.9630\n",
      "Epoch 62/80\n",
      "16/16 [==============================] - 0s 4ms/step - loss: 0.1122 - accuracy: 0.9651 - val_loss: 0.1409 - val_accuracy: 0.9630\n",
      "Epoch 63/80\n",
      "16/16 [==============================] - 0s 4ms/step - loss: 0.1106 - accuracy: 0.9667 - val_loss: 0.1393 - val_accuracy: 0.9667\n",
      "Epoch 64/80\n",
      "16/16 [==============================] - 0s 5ms/step - loss: 0.1097 - accuracy: 0.9706 - val_loss: 0.1390 - val_accuracy: 0.9630\n",
      "Epoch 65/80\n",
      "16/16 [==============================] - 0s 5ms/step - loss: 0.1082 - accuracy: 0.9651 - val_loss: 0.1364 - val_accuracy: 0.9648\n",
      "Epoch 66/80\n",
      "16/16 [==============================] - 0s 5ms/step - loss: 0.1069 - accuracy: 0.9706 - val_loss: 0.1354 - val_accuracy: 0.9630\n",
      "Epoch 67/80\n",
      "16/16 [==============================] - 0s 4ms/step - loss: 0.1054 - accuracy: 0.9698 - val_loss: 0.1345 - val_accuracy: 0.9648\n",
      "Epoch 68/80\n",
      "16/16 [==============================] - 0s 4ms/step - loss: 0.1044 - accuracy: 0.9706 - val_loss: 0.1324 - val_accuracy: 0.9685\n",
      "Epoch 69/80\n",
      "16/16 [==============================] - 0s 4ms/step - loss: 0.1035 - accuracy: 0.9730 - val_loss: 0.1323 - val_accuracy: 0.9685\n",
      "Epoch 70/80\n",
      "16/16 [==============================] - 0s 4ms/step - loss: 0.1018 - accuracy: 0.9730 - val_loss: 0.1291 - val_accuracy: 0.9704\n",
      "Epoch 71/80\n",
      "16/16 [==============================] - 0s 4ms/step - loss: 0.1007 - accuracy: 0.9746 - val_loss: 0.1282 - val_accuracy: 0.9704\n",
      "Epoch 72/80\n",
      "16/16 [==============================] - 0s 4ms/step - loss: 0.0995 - accuracy: 0.9762 - val_loss: 0.1277 - val_accuracy: 0.9667\n",
      "Epoch 73/80\n",
      "16/16 [==============================] - 0s 5ms/step - loss: 0.0988 - accuracy: 0.9762 - val_loss: 0.1256 - val_accuracy: 0.9704\n",
      "Epoch 74/80\n",
      "16/16 [==============================] - 0s 4ms/step - loss: 0.0973 - accuracy: 0.9762 - val_loss: 0.1255 - val_accuracy: 0.9685\n",
      "Epoch 75/80\n",
      "16/16 [==============================] - 0s 4ms/step - loss: 0.0966 - accuracy: 0.9770 - val_loss: 0.1244 - val_accuracy: 0.9685\n",
      "Epoch 76/80\n",
      "16/16 [==============================] - 0s 4ms/step - loss: 0.0961 - accuracy: 0.9786 - val_loss: 0.1221 - val_accuracy: 0.9704\n",
      "Epoch 77/80\n",
      "16/16 [==============================] - 0s 4ms/step - loss: 0.0945 - accuracy: 0.9778 - val_loss: 0.1220 - val_accuracy: 0.9685\n",
      "Epoch 78/80\n",
      "16/16 [==============================] - 0s 4ms/step - loss: 0.0937 - accuracy: 0.9794 - val_loss: 0.1206 - val_accuracy: 0.9704\n",
      "Epoch 79/80\n",
      "16/16 [==============================] - 0s 4ms/step - loss: 0.0925 - accuracy: 0.9786 - val_loss: 0.1202 - val_accuracy: 0.9704\n",
      "Epoch 80/80\n",
      "16/16 [==============================] - 0s 4ms/step - loss: 0.0917 - accuracy: 0.9810 - val_loss: 0.1196 - val_accuracy: 0.9685\n"
     ]
    }
   ],
   "source": [
    "history=model.fit(x_trainf,y_train,batch_size=80,epochs=80,validation_split=0.3)"
   ]
  },
  {
   "cell_type": "markdown",
   "id": "a143bc2a",
   "metadata": {},
   "source": [
    "### Model Prediction and Evaluation:\n",
    "\n",
    "- The trained model is used to predict the outputs for x_testf.\n",
    "- The predicted outputs are converted to binary values (0 or 1) using a threshold of 0.5.\n"
   ]
  },
  {
   "cell_type": "code",
   "execution_count": 169,
   "id": "74207e45",
   "metadata": {},
   "outputs": [],
   "source": [
    "y_cap=model.predict(x_testf)"
   ]
  },
  {
   "cell_type": "code",
   "execution_count": 170,
   "id": "d3c806fa",
   "metadata": {},
   "outputs": [],
   "source": [
    "y_capf=np.where(y_cap>0.5,1,0)"
   ]
  },
  {
   "cell_type": "markdown",
   "id": "a9560934",
   "metadata": {},
   "source": [
    "#### Compute - The accuracy of the model's predictions is calculated using accuracy_score() from the scikit-learn library."
   ]
  },
  {
   "cell_type": "code",
   "execution_count": 171,
   "id": "6a0add87",
   "metadata": {},
   "outputs": [
    {
     "data": {
      "text/plain": [
       "0.97"
      ]
     },
     "execution_count": 171,
     "metadata": {},
     "output_type": "execute_result"
    }
   ],
   "source": [
    "from sklearn.metrics import accuracy_score\n",
    "accuracy_score(y_test,y_capf)"
   ]
  },
  {
   "cell_type": "markdown",
   "id": "b66ea828",
   "metadata": {},
   "source": [
    "### Visualization:\n",
    "\n",
    "The code then plots the training loss and validation loss over the epochs using plt.plot()."
   ]
  },
  {
   "cell_type": "code",
   "execution_count": 172,
   "id": "0d0af684",
   "metadata": {},
   "outputs": [
    {
     "data": {
      "text/plain": [
       "[<matplotlib.lines.Line2D at 0x22aee1d2520>]"
      ]
     },
     "execution_count": 172,
     "metadata": {},
     "output_type": "execute_result"
    },
    {
     "data": {
      "image/png": "[encoded data removed]",
      "text/plain": [
       "<Figure size 432x288 with 1 Axes>"
      ]
     },
     "metadata": {
      "needs_background": "light"
     },
     "output_type": "display_data"
    }
   ],
   "source": [
    "plt.plot(history.history['loss'])\n",
    "plt.plot(history.history['val_loss'])"
   ]
  },
  {
   "cell_type": "markdown",
   "id": "1d147ec7",
   "metadata": {},
   "source": [
    "\n",
    "#### It also uses the plot_decision_regions function from the mlxtend library to visualize the decision regions of the model based on the features in the dataset."
   ]
  },
  {
   "cell_type": "code",
   "execution_count": 173,
   "id": "3eb45959",
   "metadata": {},
   "outputs": [],
   "source": [
    "from mlxtend.plotting import plot_decision_regions"
   ]
  },
  {
   "cell_type": "code",
   "execution_count": 174,
   "id": "6817c3cf",
   "metadata": {},
   "outputs": [
    {
     "data": {
      "text/plain": [
       "<AxesSubplot:>"
      ]
     },
     "execution_count": 174,
     "metadata": {},
     "output_type": "execute_result"
    },
    {
     "data": {
      "image/png": "[encoded data removed]",
      "text/plain": [
       "<Figure size 432x288 with 1 Axes>"
      ]
     },
     "metadata": {
      "needs_background": "light"
     },
     "output_type": "display_data"
    }
   ],
   "source": [
    "plot_decision_regions(df[[0,1]].values,df[2].values.astype(int),clf=model)"
   ]
  },
  {
   "cell_type": "markdown",
   "id": "0284f484",
   "metadata": {},
   "source": [
    "### Overall, this code defines, trains, and evaluates a neural network model for a binary classification problem, and it provides visualizations of the training process and decision regions of the model."
   ]
  },
  {
   "cell_type": "code",
   "execution_count": 175,
   "id": "acd54f70",
   "metadata": {},
   "outputs": [
    {
     "data": {
      "text/plain": [
       "<AxesSubplot:>"
      ]
     },
     "execution_count": 175,
     "metadata": {},
     "output_type": "execute_result"
    },
    {
     "data": {
      "image/png": "[encoded data removed]",
      "text/plain": [
       "<Figure size 432x288 with 1 Axes>"
      ]
     },
     "metadata": {
      "needs_background": "light"
     },
     "output_type": "display_data"
    }
   ],
   "source": [
    "plot_decision_regions(x_testf,y_test.values.astype(int),clf=model)"
   ]
  },
  {
   "cell_type": "code",
   "execution_count": null,
   "id": "a10db431",
   "metadata": {},
   "outputs": [],
   "source": []
  }
 ],
 "metadata": {
  "kernelspec": {
   "display_name": "Python 3 (ipykernel)",
   "language": "python",
   "name": "python3"
  },
  "language_info": {
   "codemirror_mode": {
    "name": "ipython",
    "version": 3
   },
   "file_extension": ".py",
   "mimetype": "text/x-python",
   "name": "python",
   "nbconvert_exporter": "python",
   "pygments_lexer": "ipython3",
   "version": "3.9.12"
  }
 },
 "nbformat": 4,
 "nbformat_minor": 5
}
