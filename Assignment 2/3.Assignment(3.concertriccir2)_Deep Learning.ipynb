{
 "cells": [
  {
   "cell_type": "markdown",
   "id": "1db0ced9",
   "metadata": {},
   "source": [
    "### Documentation:\n",
    "#### Data Set:3.concertriccir2\n",
    "\n",
    "\n",
    "### Data Description:\n",
    "- The dataset consists of three columns and 500 rows which includes two feature columns and one label column.\n",
    "- Features columns are in the form of float and continuous values ranges from [-3.950019 to 6.712027] and [-3.935098 to 7.848278] and the means are at [-0.010872 and -0.019289].\n",
    "- Whereas label is in the form discreate numerical float values that includes [0.0 and 1.o]. 50% of the data consists of 0 and rest consists of 1 as labels.\n",
    "- There are zero duplicates and no null values consists in the dataset.\n",
    "- Pattern that is formed by the input features is two spirals shape. That means one sprial consists of labels as 0 and the other consists of 1."
   ]
  },
  {
   "cell_type": "markdown",
   "id": "93577034",
   "metadata": {},
   "source": [
    "### Importing Libraries: The required libraries are imported at the beginning of the code."
   ]
  },
  {
   "cell_type": "code",
   "execution_count": 1,
   "id": "316456a1",
   "metadata": {},
   "outputs": [],
   "source": [
    "import pandas as pd\n",
    "import numpy as np\n",
    "import matplotlib.pyplot as plt\n",
    "import seaborn as sns "
   ]
  },
  {
   "cell_type": "markdown",
   "id": "96001294",
   "metadata": {},
   "source": [
    "### Loading the Dataset:\n",
    "The code reads a CSV file using Pandas, assuming the file is located at\"C:\\\\Users\\\\dell\\\\Downloads\\\\Deep Learning data\\\\3.concertriccir2.csv\". The dataset is stored in the DataFrame df."
   ]
  },
  {
   "cell_type": "code",
   "execution_count": 2,
   "id": "e8d49a75",
   "metadata": {},
   "outputs": [
    {
     "data": {
      "text/html": [
       "<div>\n",
       "<style scoped>\n",
       "    .dataframe tbody tr th:only-of-type {\n",
       "        vertical-align: middle;\n",
       "    }\n",
       "\n",
       "    .dataframe tbody tr th {\n",
       "        vertical-align: top;\n",
       "    }\n",
       "\n",
       "    .dataframe thead th {\n",
       "        text-align: right;\n",
       "    }\n",
       "</style>\n",
       "<table border=\"1\" class=\"dataframe\">\n",
       "  <thead>\n",
       "    <tr style=\"text-align: right;\">\n",
       "      <th></th>\n",
       "      <th>0</th>\n",
       "      <th>1</th>\n",
       "      <th>2</th>\n",
       "    </tr>\n",
       "  </thead>\n",
       "  <tbody>\n",
       "    <tr>\n",
       "      <th>0</th>\n",
       "      <td>0.700335</td>\n",
       "      <td>-0.247068</td>\n",
       "      <td>0.0</td>\n",
       "    </tr>\n",
       "    <tr>\n",
       "      <th>1</th>\n",
       "      <td>-3.950019</td>\n",
       "      <td>2.740080</td>\n",
       "      <td>1.0</td>\n",
       "    </tr>\n",
       "    <tr>\n",
       "      <th>2</th>\n",
       "      <td>0.150222</td>\n",
       "      <td>-2.157638</td>\n",
       "      <td>1.0</td>\n",
       "    </tr>\n",
       "    <tr>\n",
       "      <th>3</th>\n",
       "      <td>-1.672050</td>\n",
       "      <td>-0.941519</td>\n",
       "      <td>1.0</td>\n",
       "    </tr>\n",
       "    <tr>\n",
       "      <th>4</th>\n",
       "      <td>2.560483</td>\n",
       "      <td>-1.846577</td>\n",
       "      <td>1.0</td>\n",
       "    </tr>\n",
       "  </tbody>\n",
       "</table>\n",
       "</div>"
      ],
      "text/plain": [
       "          0         1    2\n",
       "0  0.700335 -0.247068  0.0\n",
       "1 -3.950019  2.740080  1.0\n",
       "2  0.150222 -2.157638  1.0\n",
       "3 -1.672050 -0.941519  1.0\n",
       "4  2.560483 -1.846577  1.0"
      ]
     },
     "execution_count": 2,
     "metadata": {},
     "output_type": "execute_result"
    }
   ],
   "source": [
    "df = pd.read_csv(\"C:\\\\Users\\\\dell\\\\Downloads\\\\Deep Learning data\\\\3.concertriccir2.csv\",header = None)\n",
    "df.head()"
   ]
  },
  {
   "cell_type": "markdown",
   "id": "01e47e5e",
   "metadata": {},
   "source": [
    "#### Gives the dimensions of the dataset (number of rows, number of columns).\n"
   ]
  },
  {
   "cell_type": "code",
   "execution_count": 51,
   "id": "af36c085",
   "metadata": {},
   "outputs": [
    {
     "data": {
      "text/plain": [
       "(500, 3)"
      ]
     },
     "execution_count": 51,
     "metadata": {},
     "output_type": "execute_result"
    }
   ],
   "source": [
    "df.shape"
   ]
  },
  {
   "cell_type": "code",
   "execution_count": 52,
   "id": "f52f017f",
   "metadata": {},
   "outputs": [
    {
     "data": {
      "text/html": [
       "<div>\n",
       "<style scoped>\n",
       "    .dataframe tbody tr th:only-of-type {\n",
       "        vertical-align: middle;\n",
       "    }\n",
       "\n",
       "    .dataframe tbody tr th {\n",
       "        vertical-align: top;\n",
       "    }\n",
       "\n",
       "    .dataframe thead th {\n",
       "        text-align: right;\n",
       "    }\n",
       "</style>\n",
       "<table border=\"1\" class=\"dataframe\">\n",
       "  <thead>\n",
       "    <tr style=\"text-align: right;\">\n",
       "      <th></th>\n",
       "      <th>0</th>\n",
       "      <th>1</th>\n",
       "    </tr>\n",
       "  </thead>\n",
       "  <tbody>\n",
       "    <tr>\n",
       "      <th>0</th>\n",
       "      <td>0.700335</td>\n",
       "      <td>-0.247068</td>\n",
       "    </tr>\n",
       "    <tr>\n",
       "      <th>1</th>\n",
       "      <td>-3.950019</td>\n",
       "      <td>2.740080</td>\n",
       "    </tr>\n",
       "    <tr>\n",
       "      <th>2</th>\n",
       "      <td>0.150222</td>\n",
       "      <td>-2.157638</td>\n",
       "    </tr>\n",
       "    <tr>\n",
       "      <th>3</th>\n",
       "      <td>-1.672050</td>\n",
       "      <td>-0.941519</td>\n",
       "    </tr>\n",
       "    <tr>\n",
       "      <th>4</th>\n",
       "      <td>2.560483</td>\n",
       "      <td>-1.846577</td>\n",
       "    </tr>\n",
       "    <tr>\n",
       "      <th>...</th>\n",
       "      <td>...</td>\n",
       "      <td>...</td>\n",
       "    </tr>\n",
       "    <tr>\n",
       "      <th>495</th>\n",
       "      <td>2.177895</td>\n",
       "      <td>2.984489</td>\n",
       "    </tr>\n",
       "    <tr>\n",
       "      <th>496</th>\n",
       "      <td>1.778905</td>\n",
       "      <td>2.869205</td>\n",
       "    </tr>\n",
       "    <tr>\n",
       "      <th>497</th>\n",
       "      <td>0.894180</td>\n",
       "      <td>3.069959</td>\n",
       "    </tr>\n",
       "    <tr>\n",
       "      <th>498</th>\n",
       "      <td>0.849439</td>\n",
       "      <td>3.875435</td>\n",
       "    </tr>\n",
       "    <tr>\n",
       "      <th>499</th>\n",
       "      <td>5.217443</td>\n",
       "      <td>1.400818</td>\n",
       "    </tr>\n",
       "  </tbody>\n",
       "</table>\n",
       "<p>500 rows × 2 columns</p>\n",
       "</div>"
      ],
      "text/plain": [
       "            0         1\n",
       "0    0.700335 -0.247068\n",
       "1   -3.950019  2.740080\n",
       "2    0.150222 -2.157638\n",
       "3   -1.672050 -0.941519\n",
       "4    2.560483 -1.846577\n",
       "..        ...       ...\n",
       "495  2.177895  2.984489\n",
       "496  1.778905  2.869205\n",
       "497  0.894180  3.069959\n",
       "498  0.849439  3.875435\n",
       "499  5.217443  1.400818\n",
       "\n",
       "[500 rows x 2 columns]"
      ]
     },
     "execution_count": 52,
     "metadata": {},
     "output_type": "execute_result"
    }
   ],
   "source": [
    "df[[0,1]]"
   ]
  },
  {
   "cell_type": "markdown",
   "id": "5eb90617",
   "metadata": {},
   "source": [
    "#### Provides information about the dataset, including the data types of each column and the number of non-null values.\n"
   ]
  },
  {
   "cell_type": "code",
   "execution_count": 5,
   "id": "171a3d05",
   "metadata": {},
   "outputs": [
    {
     "name": "stdout",
     "output_type": "stream",
     "text": [
      "<class 'pandas.core.frame.DataFrame'>\n",
      "RangeIndex: 500 entries, 0 to 499\n",
      "Data columns (total 3 columns):\n",
      " #   Column  Non-Null Count  Dtype  \n",
      "---  ------  --------------  -----  \n",
      " 0   0       500 non-null    float64\n",
      " 1   1       500 non-null    float64\n",
      " 2   2       500 non-null    float64\n",
      "dtypes: float64(3)\n",
      "memory usage: 11.8 KB\n"
     ]
    }
   ],
   "source": [
    "df.info()"
   ]
  },
  {
   "cell_type": "markdown",
   "id": "b6072a66",
   "metadata": {},
   "source": [
    "#### Generates descriptive statistics of the dataset, such as count, mean, standard deviation, minimum, and maximum values for each numerical column. "
   ]
  },
  {
   "cell_type": "code",
   "execution_count": 6,
   "id": "8d1cccf0",
   "metadata": {},
   "outputs": [
    {
     "data": {
      "text/html": [
       "<div>\n",
       "<style scoped>\n",
       "    .dataframe tbody tr th:only-of-type {\n",
       "        vertical-align: middle;\n",
       "    }\n",
       "\n",
       "    .dataframe tbody tr th {\n",
       "        vertical-align: top;\n",
       "    }\n",
       "\n",
       "    .dataframe thead th {\n",
       "        text-align: right;\n",
       "    }\n",
       "</style>\n",
       "<table border=\"1\" class=\"dataframe\">\n",
       "  <thead>\n",
       "    <tr style=\"text-align: right;\">\n",
       "      <th></th>\n",
       "      <th>0</th>\n",
       "      <th>1</th>\n",
       "      <th>2</th>\n",
       "    </tr>\n",
       "  </thead>\n",
       "  <tbody>\n",
       "    <tr>\n",
       "      <th>count</th>\n",
       "      <td>500.000000</td>\n",
       "      <td>500.000000</td>\n",
       "      <td>500.000000</td>\n",
       "    </tr>\n",
       "    <tr>\n",
       "      <th>mean</th>\n",
       "      <td>1.883707</td>\n",
       "      <td>1.869874</td>\n",
       "      <td>0.500000</td>\n",
       "    </tr>\n",
       "    <tr>\n",
       "      <th>std</th>\n",
       "      <td>1.931275</td>\n",
       "      <td>1.986852</td>\n",
       "      <td>0.500501</td>\n",
       "    </tr>\n",
       "    <tr>\n",
       "      <th>min</th>\n",
       "      <td>-3.950019</td>\n",
       "      <td>-3.935098</td>\n",
       "      <td>0.000000</td>\n",
       "    </tr>\n",
       "    <tr>\n",
       "      <th>25%</th>\n",
       "      <td>0.403585</td>\n",
       "      <td>0.426457</td>\n",
       "      <td>0.000000</td>\n",
       "    </tr>\n",
       "    <tr>\n",
       "      <th>50%</th>\n",
       "      <td>2.191547</td>\n",
       "      <td>2.109658</td>\n",
       "      <td>0.500000</td>\n",
       "    </tr>\n",
       "    <tr>\n",
       "      <th>75%</th>\n",
       "      <td>3.349001</td>\n",
       "      <td>3.388552</td>\n",
       "      <td>1.000000</td>\n",
       "    </tr>\n",
       "    <tr>\n",
       "      <th>max</th>\n",
       "      <td>6.712027</td>\n",
       "      <td>7.848278</td>\n",
       "      <td>1.000000</td>\n",
       "    </tr>\n",
       "  </tbody>\n",
       "</table>\n",
       "</div>"
      ],
      "text/plain": [
       "                0           1           2\n",
       "count  500.000000  500.000000  500.000000\n",
       "mean     1.883707    1.869874    0.500000\n",
       "std      1.931275    1.986852    0.500501\n",
       "min     -3.950019   -3.935098    0.000000\n",
       "25%      0.403585    0.426457    0.000000\n",
       "50%      2.191547    2.109658    0.500000\n",
       "75%      3.349001    3.388552    1.000000\n",
       "max      6.712027    7.848278    1.000000"
      ]
     },
     "execution_count": 6,
     "metadata": {},
     "output_type": "execute_result"
    }
   ],
   "source": [
    "df.describe()"
   ]
  },
  {
   "cell_type": "code",
   "execution_count": 7,
   "id": "6cd19c9c",
   "metadata": {},
   "outputs": [
    {
     "data": {
      "text/plain": [
       "0    0\n",
       "1    0\n",
       "2    0\n",
       "dtype: int64"
      ]
     },
     "execution_count": 7,
     "metadata": {},
     "output_type": "execute_result"
    }
   ],
   "source": [
    "df.isna().sum()"
   ]
  },
  {
   "cell_type": "code",
   "execution_count": 8,
   "id": "71a477ff",
   "metadata": {},
   "outputs": [
    {
     "data": {
      "text/plain": [
       "0"
      ]
     },
     "execution_count": 8,
     "metadata": {},
     "output_type": "execute_result"
    }
   ],
   "source": [
    "df.duplicated().sum()"
   ]
  },
  {
   "cell_type": "code",
   "execution_count": 9,
   "id": "6f66675a",
   "metadata": {},
   "outputs": [
    {
     "data": {
      "text/plain": [
       "0.0    250\n",
       "1.0    250\n",
       "Name: 2, dtype: int64"
      ]
     },
     "execution_count": 9,
     "metadata": {},
     "output_type": "execute_result"
    }
   ],
   "source": [
    "df[2].value_counts()"
   ]
  },
  {
   "cell_type": "markdown",
   "id": "67f91d4c",
   "metadata": {},
   "source": [
    "### Data Visualization:\n",
    "A scatter plot is created using Seaborn to visualize the data points, where the x-axis represents df[0], the y-axis represents df[1], and the color of the points is determined by df[2]"
   ]
  },
  {
   "cell_type": "code",
   "execution_count": 10,
   "id": "b417b2ad",
   "metadata": {},
   "outputs": [
    {
     "name": "stderr",
     "output_type": "stream",
     "text": [
      "C:\\Users\\dell\\anaconda3\\lib\\site-packages\\seaborn\\_decorators.py:36: FutureWarning: Pass the following variables as keyword args: x, y. From version 0.12, the only valid positional argument will be `data`, and passing other arguments without an explicit keyword will result in an error or misinterpretation.\n",
      "  warnings.warn(\n"
     ]
    },
    {
     "data": {
      "text/plain": [
       "<AxesSubplot:xlabel='0', ylabel='1'>"
      ]
     },
     "execution_count": 10,
     "metadata": {},
     "output_type": "execute_result"
    },
    {
     "data": {
      "image/png": "[encoded data removed]",
      "text/plain": [
       "<Figure size 432x288 with 1 Axes>"
      ]
     },
     "metadata": {
      "needs_background": "light"
     },
     "output_type": "display_data"
    }
   ],
   "source": [
    "sns.scatterplot(df[0],df[1],hue = df[2])"
   ]
  },
  {
   "cell_type": "markdown",
   "id": "ab9534ca",
   "metadata": {},
   "source": [
    "### Train-Test Split:\n",
    "The dataset is split into training and testing sets using the train_test_split function from scikit-learn. The features (x_train, x_test) consist of columns 0 and 1 from the DataFrame, while the target variables (y_train, y_test) correspond to column 2. The testing set size is set to 20% of the total dataset."
   ]
  },
  {
   "cell_type": "code",
   "execution_count": 11,
   "id": "a1c105e5",
   "metadata": {},
   "outputs": [],
   "source": [
    "from sklearn.model_selection import train_test_split\n",
    "x_train,x_test,y_train,y_test=train_test_split(df[[0,1]],df[2],test_size=0.1)"
   ]
  },
  {
   "cell_type": "markdown",
   "id": "de68d3b5",
   "metadata": {},
   "source": [
    "### Data Preprocessing:\n",
    "The features are standardized using scikit-learn's StandardScaler. The fit_transform method is applied to the training set (x_train), and the transform method is applied to the testing set (x_test)."
   ]
  },
  {
   "cell_type": "code",
   "execution_count": 12,
   "id": "14ae79dc",
   "metadata": {},
   "outputs": [],
   "source": [
    "from sklearn.preprocessing import StandardScaler\n",
    "std=StandardScaler()\n",
    "x_trainf=std.fit_transform(x_train)\n",
    "x_testf=std.transform(x_test)"
   ]
  },
  {
   "cell_type": "markdown",
   "id": "c563f565",
   "metadata": {},
   "source": [
    "### Importing necessary libraries:\n",
    "- TensorFlow and Keras are libraries.\n",
    "- Sequential is a linear stack of neural network layers.\n",
    "- Dense represents a fully connected layer."
   ]
  },
  {
   "cell_type": "code",
   "execution_count": 13,
   "id": "27c40b46",
   "metadata": {},
   "outputs": [],
   "source": [
    "import tensorflow\n",
    "from tensorflow import keras\n",
    "from keras.models import Sequential\n",
    "from keras.layers import Dense"
   ]
  },
  {
   "cell_type": "markdown",
   "id": "9c1d5a6c",
   "metadata": {},
   "source": [
    "### Model Architecture:\n",
    "\n",
    "- The code starts by creating a Sequential model, which is a linear stack of layers.\n",
    "- The first layer added to the model is a Dense layer with 5 units/neurons, using the hyperbolic tangent activation function ('tanh'). It takes an input of dimension 2.\n",
    "- The subsequent layers are also Dense layers with 4, 3, 2, and 1 unit(s), respectively. They all use the 'tanh' activation function."
   ]
  },
  {
   "cell_type": "code",
   "execution_count": 38,
   "id": "dd00ca50",
   "metadata": {},
   "outputs": [],
   "source": [
    "model=Sequential()\n",
    "model.add(Dense(5,activation=\"tanh\",input_dim=2))\n",
    "\n",
    "model.add(Dense(4,activation=\"tanh\"))\n",
    "\n",
    "model.add(Dense(3,activation=\"tanh\"))\n",
    "\n",
    "model.add(Dense(2,activation=\"tanh\"))\n",
    "\n",
    "model.add(Dense(1,activation=\"sigmoid\"))"
   ]
  },
  {
   "cell_type": "markdown",
   "id": "10e71c05",
   "metadata": {},
   "source": [
    "### Model Summary:\n",
    "\n",
    "After defining the model architecture, the code prints a summary of the model, displaying the layers, their output shapes, and the number of parameters."
   ]
  },
  {
   "cell_type": "code",
   "execution_count": 39,
   "id": "aeae011f",
   "metadata": {},
   "outputs": [
    {
     "name": "stdout",
     "output_type": "stream",
     "text": [
      "Model: \"sequential_2\"\n",
      "_________________________________________________________________\n",
      " Layer (type)                Output Shape              Param #   \n",
      "=================================================================\n",
      " dense_11 (Dense)            (None, 5)                 15        \n",
      "                                                                 \n",
      " dense_12 (Dense)            (None, 4)                 24        \n",
      "                                                                 \n",
      " dense_13 (Dense)            (None, 3)                 15        \n",
      "                                                                 \n",
      " dense_14 (Dense)            (None, 2)                 8         \n",
      "                                                                 \n",
      " dense_15 (Dense)            (None, 1)                 3         \n",
      "                                                                 \n",
      "=================================================================\n",
      "Total params: 65\n",
      "Trainable params: 65\n",
      "Non-trainable params: 0\n",
      "_________________________________________________________________\n"
     ]
    }
   ],
   "source": [
    "model.summary()"
   ]
  },
  {
   "cell_type": "markdown",
   "id": "d4125fc2",
   "metadata": {},
   "source": [
    "### Model Compilation:\n",
    "\n",
    "- The next step is to compile the model. The chosen optimizer is 'Adam', which is a popular optimization algorithm.\n",
    "- The loss function is set to 'binary_crossentropy', indicating that the model is being trained for binary classification.\n",
    "- Additionally, the code specifies that the model should track and report the 'accuracy' metric during training."
   ]
  },
  {
   "cell_type": "code",
   "execution_count": 40,
   "id": "c43523d1",
   "metadata": {},
   "outputs": [],
   "source": [
    "model.compile(optimizer=\"Adam\",loss=\"binary_crossentropy\",metrics=[\"accuracy\"])"
   ]
  },
  {
   "cell_type": "markdown",
   "id": "10e8f721",
   "metadata": {},
   "source": [
    "### Model Training:\n",
    "\n",
    "- The code then proceeds to train the model using the 'fit' function. \n",
    "- It provides the training data ('x_trainf' and 'y_train'), sets the batch size to 20, and trains for 50 epochs.\n",
    "- The 'validation_split' parameter is set to 0.2, which means that 20% of the training data will be used as validation data for evaluating the model's performance on unseen examples."
   ]
  },
  {
   "cell_type": "code",
   "execution_count": 41,
   "id": "c2cc6279",
   "metadata": {
    "scrolled": false
   },
   "outputs": [
    {
     "name": "stdout",
     "output_type": "stream",
     "text": [
      "Epoch 1/50\n",
      "18/18 [==============================] - 0s 7ms/step - loss: 0.7094 - accuracy: 0.5500 - val_loss: 0.7034 - val_accuracy: 0.5556\n",
      "Epoch 2/50\n",
      "18/18 [==============================] - 0s 2ms/step - loss: 0.7055 - accuracy: 0.5444 - val_loss: 0.7010 - val_accuracy: 0.5556\n",
      "Epoch 3/50\n",
      "18/18 [==============================] - 0s 2ms/step - loss: 0.7030 - accuracy: 0.5500 - val_loss: 0.6990 - val_accuracy: 0.5556\n",
      "Epoch 4/50\n",
      "18/18 [==============================] - 0s 2ms/step - loss: 0.7005 - accuracy: 0.5472 - val_loss: 0.6972 - val_accuracy: 0.5556\n",
      "Epoch 5/50\n",
      "18/18 [==============================] - 0s 2ms/step - loss: 0.6989 - accuracy: 0.5472 - val_loss: 0.6955 - val_accuracy: 0.5556\n",
      "Epoch 6/50\n",
      "18/18 [==============================] - 0s 2ms/step - loss: 0.6973 - accuracy: 0.5417 - val_loss: 0.6941 - val_accuracy: 0.5556\n",
      "Epoch 7/50\n",
      "18/18 [==============================] - 0s 2ms/step - loss: 0.6957 - accuracy: 0.5444 - val_loss: 0.6925 - val_accuracy: 0.5556\n",
      "Epoch 8/50\n",
      "18/18 [==============================] - 0s 2ms/step - loss: 0.6946 - accuracy: 0.5472 - val_loss: 0.6914 - val_accuracy: 0.5444\n",
      "Epoch 9/50\n",
      "18/18 [==============================] - 0s 2ms/step - loss: 0.6932 - accuracy: 0.5417 - val_loss: 0.6898 - val_accuracy: 0.5444\n",
      "Epoch 10/50\n",
      "18/18 [==============================] - 0s 2ms/step - loss: 0.6920 - accuracy: 0.5389 - val_loss: 0.6885 - val_accuracy: 0.5444\n",
      "Epoch 11/50\n",
      "18/18 [==============================] - 0s 2ms/step - loss: 0.6910 - accuracy: 0.5361 - val_loss: 0.6874 - val_accuracy: 0.5444\n",
      "Epoch 12/50\n",
      "18/18 [==============================] - 0s 2ms/step - loss: 0.6901 - accuracy: 0.5361 - val_loss: 0.6863 - val_accuracy: 0.5444\n",
      "Epoch 13/50\n",
      "18/18 [==============================] - 0s 2ms/step - loss: 0.6891 - accuracy: 0.5389 - val_loss: 0.6848 - val_accuracy: 0.5444\n",
      "Epoch 14/50\n",
      "18/18 [==============================] - 0s 2ms/step - loss: 0.6880 - accuracy: 0.5389 - val_loss: 0.6835 - val_accuracy: 0.5444\n",
      "Epoch 15/50\n",
      "18/18 [==============================] - 0s 2ms/step - loss: 0.6871 - accuracy: 0.5361 - val_loss: 0.6822 - val_accuracy: 0.5444\n",
      "Epoch 16/50\n",
      "18/18 [==============================] - 0s 2ms/step - loss: 0.6861 - accuracy: 0.5333 - val_loss: 0.6809 - val_accuracy: 0.5444\n",
      "Epoch 17/50\n",
      "18/18 [==============================] - 0s 2ms/step - loss: 0.6851 - accuracy: 0.5361 - val_loss: 0.6796 - val_accuracy: 0.5556\n",
      "Epoch 18/50\n",
      "18/18 [==============================] - 0s 2ms/step - loss: 0.6841 - accuracy: 0.5389 - val_loss: 0.6783 - val_accuracy: 0.5556\n",
      "Epoch 19/50\n",
      "18/18 [==============================] - 0s 2ms/step - loss: 0.6829 - accuracy: 0.5417 - val_loss: 0.6765 - val_accuracy: 0.5556\n",
      "Epoch 20/50\n",
      "18/18 [==============================] - 0s 2ms/step - loss: 0.6816 - accuracy: 0.5389 - val_loss: 0.6748 - val_accuracy: 0.5444\n",
      "Epoch 21/50\n",
      "18/18 [==============================] - 0s 2ms/step - loss: 0.6803 - accuracy: 0.5389 - val_loss: 0.6730 - val_accuracy: 0.5889\n",
      "Epoch 22/50\n",
      "18/18 [==============================] - 0s 2ms/step - loss: 0.6787 - accuracy: 0.5639 - val_loss: 0.6708 - val_accuracy: 0.6333\n",
      "Epoch 23/50\n",
      "18/18 [==============================] - 0s 2ms/step - loss: 0.6772 - accuracy: 0.5889 - val_loss: 0.6684 - val_accuracy: 0.6333\n",
      "Epoch 24/50\n",
      "18/18 [==============================] - 0s 2ms/step - loss: 0.6756 - accuracy: 0.6083 - val_loss: 0.6661 - val_accuracy: 0.6667\n",
      "Epoch 25/50\n",
      "18/18 [==============================] - 0s 2ms/step - loss: 0.6735 - accuracy: 0.6111 - val_loss: 0.6635 - val_accuracy: 0.6667\n",
      "Epoch 26/50\n",
      "18/18 [==============================] - 0s 2ms/step - loss: 0.6716 - accuracy: 0.6306 - val_loss: 0.6607 - val_accuracy: 0.6889\n",
      "Epoch 27/50\n",
      "18/18 [==============================] - 0s 2ms/step - loss: 0.6692 - accuracy: 0.6444 - val_loss: 0.6573 - val_accuracy: 0.6889\n",
      "Epoch 28/50\n",
      "18/18 [==============================] - 0s 2ms/step - loss: 0.6665 - accuracy: 0.6444 - val_loss: 0.6536 - val_accuracy: 0.7000\n",
      "Epoch 29/50\n",
      "18/18 [==============================] - 0s 2ms/step - loss: 0.6636 - accuracy: 0.6639 - val_loss: 0.6503 - val_accuracy: 0.7000\n",
      "Epoch 30/50\n",
      "18/18 [==============================] - 0s 2ms/step - loss: 0.6607 - accuracy: 0.6556 - val_loss: 0.6457 - val_accuracy: 0.7111\n",
      "Epoch 31/50\n",
      "18/18 [==============================] - 0s 2ms/step - loss: 0.6570 - accuracy: 0.6583 - val_loss: 0.6417 - val_accuracy: 0.7111\n",
      "Epoch 32/50\n",
      "18/18 [==============================] - 0s 2ms/step - loss: 0.6541 - accuracy: 0.6556 - val_loss: 0.6368 - val_accuracy: 0.7111\n",
      "Epoch 33/50\n",
      "18/18 [==============================] - 0s 2ms/step - loss: 0.6501 - accuracy: 0.6583 - val_loss: 0.6320 - val_accuracy: 0.6889\n",
      "Epoch 34/50\n",
      "18/18 [==============================] - 0s 2ms/step - loss: 0.6443 - accuracy: 0.6694 - val_loss: 0.6262 - val_accuracy: 0.7000\n",
      "Epoch 35/50\n",
      "18/18 [==============================] - 0s 2ms/step - loss: 0.6400 - accuracy: 0.6667 - val_loss: 0.6198 - val_accuracy: 0.7000\n",
      "Epoch 36/50\n",
      "18/18 [==============================] - 0s 2ms/step - loss: 0.6338 - accuracy: 0.6750 - val_loss: 0.6131 - val_accuracy: 0.7111\n",
      "Epoch 37/50\n",
      "18/18 [==============================] - 0s 2ms/step - loss: 0.6270 - accuracy: 0.7028 - val_loss: 0.6060 - val_accuracy: 0.7556\n",
      "Epoch 38/50\n",
      "18/18 [==============================] - 0s 2ms/step - loss: 0.6192 - accuracy: 0.7083 - val_loss: 0.5972 - val_accuracy: 0.7556\n",
      "Epoch 39/50\n",
      "18/18 [==============================] - 0s 2ms/step - loss: 0.6096 - accuracy: 0.7139 - val_loss: 0.5872 - val_accuracy: 0.7778\n",
      "Epoch 40/50\n",
      "18/18 [==============================] - 0s 2ms/step - loss: 0.5996 - accuracy: 0.7611 - val_loss: 0.5770 - val_accuracy: 0.8000\n",
      "Epoch 41/50\n",
      "18/18 [==============================] - 0s 2ms/step - loss: 0.5884 - accuracy: 0.7750 - val_loss: 0.5665 - val_accuracy: 0.8000\n",
      "Epoch 42/50\n",
      "18/18 [==============================] - 0s 2ms/step - loss: 0.5780 - accuracy: 0.7556 - val_loss: 0.5544 - val_accuracy: 0.8000\n",
      "Epoch 43/50\n",
      "18/18 [==============================] - 0s 2ms/step - loss: 0.5628 - accuracy: 0.7806 - val_loss: 0.5406 - val_accuracy: 0.8111\n",
      "Epoch 44/50\n",
      "18/18 [==============================] - 0s 2ms/step - loss: 0.5506 - accuracy: 0.7889 - val_loss: 0.5279 - val_accuracy: 0.8000\n",
      "Epoch 45/50\n",
      "18/18 [==============================] - 0s 2ms/step - loss: 0.5373 - accuracy: 0.7750 - val_loss: 0.5161 - val_accuracy: 0.8111\n",
      "Epoch 46/50\n",
      "18/18 [==============================] - 0s 2ms/step - loss: 0.5257 - accuracy: 0.7917 - val_loss: 0.5040 - val_accuracy: 0.8222\n",
      "Epoch 47/50\n",
      "18/18 [==============================] - 0s 2ms/step - loss: 0.5097 - accuracy: 0.7861 - val_loss: 0.4924 - val_accuracy: 0.8222\n",
      "Epoch 48/50\n",
      "18/18 [==============================] - 0s 2ms/step - loss: 0.5002 - accuracy: 0.7917 - val_loss: 0.4827 - val_accuracy: 0.7889\n",
      "Epoch 49/50\n",
      "18/18 [==============================] - 0s 2ms/step - loss: 0.4877 - accuracy: 0.7917 - val_loss: 0.4710 - val_accuracy: 0.8222\n",
      "Epoch 50/50\n",
      "18/18 [==============================] - 0s 2ms/step - loss: 0.4734 - accuracy: 0.8000 - val_loss: 0.4631 - val_accuracy: 0.8222\n"
     ]
    }
   ],
   "source": [
    "history=model.fit(x_trainf,y_train,batch_size=20,epochs=50,validation_split=0.2)"
   ]
  },
  {
   "cell_type": "markdown",
   "id": "be082aad",
   "metadata": {},
   "source": [
    "### Plotting Decision Regions:\n",
    "\n",
    "- Imports the 'plot_decision_regions' function from the 'mlxtend.plotting' module.\n",
    "- It uses this function to visualize the decision regions of the trained model on the provided dataset, which consists of features stored in columns 0 and 1, and labels stored in column 2."
   ]
  },
  {
   "cell_type": "code",
   "execution_count": 42,
   "id": "6230fa37",
   "metadata": {},
   "outputs": [],
   "source": [
    "from mlxtend.plotting import plot_decision_regions"
   ]
  },
  {
   "cell_type": "code",
   "execution_count": 43,
   "id": "20fd9b32",
   "metadata": {},
   "outputs": [
    {
     "data": {
      "text/plain": [
       "<AxesSubplot:>"
      ]
     },
     "execution_count": 43,
     "metadata": {},
     "output_type": "execute_result"
    },
    {
     "data": {
      "image/png": "[encoded data removed]",
      "text/plain": [
       "<Figure size 432x288 with 1 Axes>"
      ]
     },
     "metadata": {
      "needs_background": "light"
     },
     "output_type": "display_data"
    }
   ],
   "source": [
    "plot_decision_regions(df[[0,1]].values,df[2].values.astype(int),clf=model)"
   ]
  },
  {
   "cell_type": "markdown",
   "id": "66f279d8",
   "metadata": {},
   "source": [
    "### Model Prediction and Evaluation:\n",
    "\n",
    "- Next, predicts the labels for the test data ('x_testf') using the trained model.\n",
    "- It applies a threshold of 0.5 to convert the predicted probabilities into binary class labels (0 or 1) and stores the results in 'y_capf'.\n"
   ]
  },
  {
   "cell_type": "code",
   "execution_count": 44,
   "id": "b03d0488",
   "metadata": {},
   "outputs": [],
   "source": [
    "y_cap=model.predict(x_testf)"
   ]
  },
  {
   "cell_type": "code",
   "execution_count": 45,
   "id": "372412a1",
   "metadata": {},
   "outputs": [],
   "source": [
    "y_capf=np.where(y_cap>0.5,1,0)"
   ]
  },
  {
   "cell_type": "markdown",
   "id": "73d08810",
   "metadata": {},
   "source": [
    "#### compute the accuracy score of the model's predictions ('y_capf') compared to the true labels ('y_test') using the 'accuracy_score' function from sklearn.metrics.### "
   ]
  },
  {
   "cell_type": "code",
   "execution_count": 46,
   "id": "137abd5a",
   "metadata": {},
   "outputs": [
    {
     "data": {
      "text/plain": [
       "0.74"
      ]
     },
     "execution_count": 46,
     "metadata": {},
     "output_type": "execute_result"
    }
   ],
   "source": [
    "from sklearn.metrics import accuracy_score\n",
    "accuracy_score(y_test,y_capf)"
   ]
  },
  {
   "cell_type": "markdown",
   "id": "7643550c",
   "metadata": {},
   "source": [
    "### Plotting Training Metrics:\n",
    "\n",
    "- After training, the code uses matplotlib to plot the training loss and validation loss from the 'history' object. \n",
    "- This can help visualize the model's learning progress and identify potential overfitting or underfitting."
   ]
  },
  {
   "cell_type": "code",
   "execution_count": 47,
   "id": "de1b1470",
   "metadata": {},
   "outputs": [
    {
     "data": {
      "text/plain": [
       "[<matplotlib.lines.Line2D at 0x2bf1fd130d0>]"
      ]
     },
     "execution_count": 47,
     "metadata": {},
     "output_type": "execute_result"
    },
    {
     "data": {
      "image/png": "[encoded data removed]",
      "text/plain": [
       "<Figure size 432x288 with 1 Axes>"
      ]
     },
     "metadata": {
      "needs_background": "light"
     },
     "output_type": "display_data"
    }
   ],
   "source": [
    "plt.plot(history.history['loss'])\n",
    "plt.plot(history.history['val_loss'])"
   ]
  },
  {
   "cell_type": "markdown",
   "id": "a9ce3acf",
   "metadata": {},
   "source": [
    "### Plotting Decision Regions for Test Data:\n",
    "\n",
    "Finally, plots the decision regions for the test data ('x_testf' and 'y_test') using the trained model, again utilizing the 'plot_decision_regions' function."
   ]
  },
  {
   "cell_type": "code",
   "execution_count": 50,
   "id": "c284afa4",
   "metadata": {},
   "outputs": [
    {
     "data": {
      "text/plain": [
       "<AxesSubplot:>"
      ]
     },
     "execution_count": 50,
     "metadata": {},
     "output_type": "execute_result"
    },
    {
     "data": {
      "image/png": "[encoded data removed]",
      "text/plain": [
       "<Figure size 432x288 with 1 Axes>"
      ]
     },
     "metadata": {
      "needs_background": "light"
     },
     "output_type": "display_data"
    }
   ],
   "source": [
    "plot_decision_regions(x_testf,y_test.values.astype(int),clf=model)"
   ]
  },
  {
   "cell_type": "code",
   "execution_count": null,
   "id": "4d02fcb1",
   "metadata": {},
   "outputs": [],
   "source": []
  }
 ],
 "metadata": {
  "kernelspec": {
   "display_name": "Python 3 (ipykernel)",
   "language": "python",
   "name": "python3"
  },
  "language_info": {
   "codemirror_mode": {
    "name": "ipython",
    "version": 3
   },
   "file_extension": ".py",
   "mimetype": "text/x-python",
   "name": "python",
   "nbconvert_exporter": "python",
   "pygments_lexer": "ipython3",
   "version": "3.9.12"
  }
 },
 "nbformat": 4,
 "nbformat_minor": 5
}
