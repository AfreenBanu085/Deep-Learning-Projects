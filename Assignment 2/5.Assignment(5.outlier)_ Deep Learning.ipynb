{
 "cells": [
  {
   "cell_type": "markdown",
   "id": "154fe829",
   "metadata": {},
   "source": [
    "### Documentation:\n",
    "#### Data Set:5.outlier\n",
    "\n",
    "\n",
    "### Data Description:\n",
    "\n",
    "- The dataset consists of three columns and 600 rows which includes two feature columns and one label column.\n",
    "- Features columns are in the form of float and continuous values ranges from [-29.969271 to 29.957195] and [-29.999631 to 34.869783] and the means are at [0.061578 and 0.470548].\n",
    "- Whereas label is in the form discreate numerical int values that includes [0 and 1]. 50% of the data consists of 0 and rest consists of 1 as labels.\n",
    "- There are zero duplicates and no null values consists in the dataset.\n",
    "- Pattern that is formed by the input features is linear separating. \n",
    "- That means a liner line is separating 0 label and 1 label."
   ]
  },
  {
   "cell_type": "markdown",
   "id": "6b9796a1",
   "metadata": {},
   "source": [
    "### Importing Libraries: The required libraries are imported at the beginning of the code."
   ]
  },
  {
   "cell_type": "code",
   "execution_count": 1,
   "id": "5eb57402",
   "metadata": {},
   "outputs": [],
   "source": [
    "import pandas as pd\n",
    "import numpy as np\n",
    "import matplotlib.pyplot as plt\n",
    "import seaborn as sns "
   ]
  },
  {
   "cell_type": "markdown",
   "id": "212871b7",
   "metadata": {},
   "source": [
    "### Loading the Dataset:\n",
    "The code reads a CSV file using Pandas, assuming the file is located at\"C:\\\\Users\\\\dell\\\\Downloads\\\\Deep Learning data\\\\5.outlier.csv\". The dataset is stored in the DataFrame df."
   ]
  },
  {
   "cell_type": "code",
   "execution_count": 2,
   "id": "7afc3329",
   "metadata": {},
   "outputs": [
    {
     "data": {
      "text/html": [
       "<div>\n",
       "<style scoped>\n",
       "    .dataframe tbody tr th:only-of-type {\n",
       "        vertical-align: middle;\n",
       "    }\n",
       "\n",
       "    .dataframe tbody tr th {\n",
       "        vertical-align: top;\n",
       "    }\n",
       "\n",
       "    .dataframe thead th {\n",
       "        text-align: right;\n",
       "    }\n",
       "</style>\n",
       "<table border=\"1\" class=\"dataframe\">\n",
       "  <thead>\n",
       "    <tr style=\"text-align: right;\">\n",
       "      <th></th>\n",
       "      <th>0</th>\n",
       "      <th>1</th>\n",
       "      <th>2</th>\n",
       "    </tr>\n",
       "  </thead>\n",
       "  <tbody>\n",
       "    <tr>\n",
       "      <th>0</th>\n",
       "      <td>-17.897000</td>\n",
       "      <td>7.662423</td>\n",
       "      <td>0</td>\n",
       "    </tr>\n",
       "    <tr>\n",
       "      <th>1</th>\n",
       "      <td>-26.343161</td>\n",
       "      <td>-3.055257</td>\n",
       "      <td>0</td>\n",
       "    </tr>\n",
       "    <tr>\n",
       "      <th>2</th>\n",
       "      <td>-19.059771</td>\n",
       "      <td>-8.531838</td>\n",
       "      <td>0</td>\n",
       "    </tr>\n",
       "    <tr>\n",
       "      <th>3</th>\n",
       "      <td>-16.383898</td>\n",
       "      <td>-2.352667</td>\n",
       "      <td>0</td>\n",
       "    </tr>\n",
       "    <tr>\n",
       "      <th>4</th>\n",
       "      <td>-12.926541</td>\n",
       "      <td>9.074994</td>\n",
       "      <td>0</td>\n",
       "    </tr>\n",
       "  </tbody>\n",
       "</table>\n",
       "</div>"
      ],
      "text/plain": [
       "           0         1  2\n",
       "0 -17.897000  7.662423  0\n",
       "1 -26.343161 -3.055257  0\n",
       "2 -19.059771 -8.531838  0\n",
       "3 -16.383898 -2.352667  0\n",
       "4 -12.926541  9.074994  0"
      ]
     },
     "execution_count": 2,
     "metadata": {},
     "output_type": "execute_result"
    }
   ],
   "source": [
    "df = pd.read_csv(\"C:\\\\Users\\\\dell\\\\Downloads\\\\Deep Learning data\\\\5.outlier.csv\",header = None)\n",
    "df.head()"
   ]
  },
  {
   "cell_type": "markdown",
   "id": "b2d5cebe",
   "metadata": {},
   "source": [
    "#### Gives the dimensions of the dataset (number of rows, number of columns).\n"
   ]
  },
  {
   "cell_type": "code",
   "execution_count": 3,
   "id": "43affdc6",
   "metadata": {},
   "outputs": [
    {
     "data": {
      "text/plain": [
       "(600, 3)"
      ]
     },
     "execution_count": 3,
     "metadata": {},
     "output_type": "execute_result"
    }
   ],
   "source": [
    "df.shape"
   ]
  },
  {
   "cell_type": "markdown",
   "id": "d7adbac1",
   "metadata": {},
   "source": [
    "#### Provides information about the dataset, including the data types of each column and the number of non-null values.\n"
   ]
  },
  {
   "cell_type": "code",
   "execution_count": 4,
   "id": "10341622",
   "metadata": {},
   "outputs": [
    {
     "name": "stdout",
     "output_type": "stream",
     "text": [
      "<class 'pandas.core.frame.DataFrame'>\n",
      "RangeIndex: 600 entries, 0 to 599\n",
      "Data columns (total 3 columns):\n",
      " #   Column  Non-Null Count  Dtype  \n",
      "---  ------  --------------  -----  \n",
      " 0   0       600 non-null    float64\n",
      " 1   1       600 non-null    float64\n",
      " 2   2       600 non-null    int64  \n",
      "dtypes: float64(2), int64(1)\n",
      "memory usage: 14.2 KB\n"
     ]
    }
   ],
   "source": [
    "df.info()"
   ]
  },
  {
   "cell_type": "markdown",
   "id": "26085e6e",
   "metadata": {},
   "source": [
    "#### Generates descriptive statistics of the dataset, such as count, mean, standard deviation, minimum, and maximum values for each numerical column. "
   ]
  },
  {
   "cell_type": "code",
   "execution_count": 5,
   "id": "0c5a65cc",
   "metadata": {},
   "outputs": [
    {
     "data": {
      "text/html": [
       "<div>\n",
       "<style scoped>\n",
       "    .dataframe tbody tr th:only-of-type {\n",
       "        vertical-align: middle;\n",
       "    }\n",
       "\n",
       "    .dataframe tbody tr th {\n",
       "        vertical-align: top;\n",
       "    }\n",
       "\n",
       "    .dataframe thead th {\n",
       "        text-align: right;\n",
       "    }\n",
       "</style>\n",
       "<table border=\"1\" class=\"dataframe\">\n",
       "  <thead>\n",
       "    <tr style=\"text-align: right;\">\n",
       "      <th></th>\n",
       "      <th>0</th>\n",
       "      <th>1</th>\n",
       "      <th>2</th>\n",
       "    </tr>\n",
       "  </thead>\n",
       "  <tbody>\n",
       "    <tr>\n",
       "      <th>count</th>\n",
       "      <td>600.000000</td>\n",
       "      <td>600.000000</td>\n",
       "      <td>600.000000</td>\n",
       "    </tr>\n",
       "    <tr>\n",
       "      <th>mean</th>\n",
       "      <td>0.061578</td>\n",
       "      <td>0.470548</td>\n",
       "      <td>0.500000</td>\n",
       "    </tr>\n",
       "    <tr>\n",
       "      <th>std</th>\n",
       "      <td>21.233873</td>\n",
       "      <td>12.685787</td>\n",
       "      <td>0.500417</td>\n",
       "    </tr>\n",
       "    <tr>\n",
       "      <th>min</th>\n",
       "      <td>-29.969271</td>\n",
       "      <td>-29.999631</td>\n",
       "      <td>0.000000</td>\n",
       "    </tr>\n",
       "    <tr>\n",
       "      <th>25%</th>\n",
       "      <td>-21.243866</td>\n",
       "      <td>-7.736699</td>\n",
       "      <td>0.000000</td>\n",
       "    </tr>\n",
       "    <tr>\n",
       "      <th>50%</th>\n",
       "      <td>2.650017</td>\n",
       "      <td>-0.377631</td>\n",
       "      <td>0.500000</td>\n",
       "    </tr>\n",
       "    <tr>\n",
       "      <th>75%</th>\n",
       "      <td>20.820305</td>\n",
       "      <td>9.078000</td>\n",
       "      <td>1.000000</td>\n",
       "    </tr>\n",
       "    <tr>\n",
       "      <th>max</th>\n",
       "      <td>29.957195</td>\n",
       "      <td>34.869783</td>\n",
       "      <td>1.000000</td>\n",
       "    </tr>\n",
       "  </tbody>\n",
       "</table>\n",
       "</div>"
      ],
      "text/plain": [
       "                0           1           2\n",
       "count  600.000000  600.000000  600.000000\n",
       "mean     0.061578    0.470548    0.500000\n",
       "std     21.233873   12.685787    0.500417\n",
       "min    -29.969271  -29.999631    0.000000\n",
       "25%    -21.243866   -7.736699    0.000000\n",
       "50%      2.650017   -0.377631    0.500000\n",
       "75%     20.820305    9.078000    1.000000\n",
       "max     29.957195   34.869783    1.000000"
      ]
     },
     "execution_count": 5,
     "metadata": {},
     "output_type": "execute_result"
    }
   ],
   "source": [
    "df.describe()"
   ]
  },
  {
   "cell_type": "code",
   "execution_count": 6,
   "id": "a7658fc9",
   "metadata": {},
   "outputs": [
    {
     "data": {
      "text/plain": [
       "0"
      ]
     },
     "execution_count": 6,
     "metadata": {},
     "output_type": "execute_result"
    }
   ],
   "source": [
    "df.duplicated().sum()"
   ]
  },
  {
   "cell_type": "code",
   "execution_count": 7,
   "id": "795d763f",
   "metadata": {},
   "outputs": [
    {
     "data": {
      "text/plain": [
       "0    0\n",
       "1    0\n",
       "2    0\n",
       "dtype: int64"
      ]
     },
     "execution_count": 7,
     "metadata": {},
     "output_type": "execute_result"
    }
   ],
   "source": [
    "df.isna().sum()"
   ]
  },
  {
   "cell_type": "code",
   "execution_count": 8,
   "id": "d08ad219",
   "metadata": {},
   "outputs": [
    {
     "data": {
      "text/plain": [
       "0    300\n",
       "1    300\n",
       "Name: 2, dtype: int64"
      ]
     },
     "execution_count": 8,
     "metadata": {},
     "output_type": "execute_result"
    }
   ],
   "source": [
    "df[2].value_counts()"
   ]
  },
  {
   "cell_type": "markdown",
   "id": "01cb02f9",
   "metadata": {},
   "source": [
    "### Data Visualization:\n",
    "A scatter plot is created using Seaborn to visualize the data points, where the x-axis represents df[0], the y-axis represents df[1], and the color of the points is determined by df[2]"
   ]
  },
  {
   "cell_type": "code",
   "execution_count": 9,
   "id": "1090a2fe",
   "metadata": {},
   "outputs": [
    {
     "name": "stderr",
     "output_type": "stream",
     "text": [
      "C:\\Users\\dell\\anaconda3\\lib\\site-packages\\seaborn\\_decorators.py:36: FutureWarning: Pass the following variables as keyword args: x, y. From version 0.12, the only valid positional argument will be `data`, and passing other arguments without an explicit keyword will result in an error or misinterpretation.\n",
      "  warnings.warn(\n"
     ]
    },
    {
     "data": {
      "text/plain": [
       "<AxesSubplot:xlabel='0', ylabel='1'>"
      ]
     },
     "execution_count": 9,
     "metadata": {},
     "output_type": "execute_result"
    },
    {
     "data": {
      "image/png": "[encoded data removed]",
      "text/plain": [
       "<Figure size 432x288 with 1 Axes>"
      ]
     },
     "metadata": {
      "needs_background": "light"
     },
     "output_type": "display_data"
    }
   ],
   "source": [
    "sns.scatterplot(df[0],df[1],hue = df[2])"
   ]
  },
  {
   "cell_type": "markdown",
   "id": "695a3474",
   "metadata": {},
   "source": [
    "### Train-Test Split:\n",
    "The dataset is split into training and testing sets using the train_test_split function from scikit-learn. The features (x_train, x_test) consist of columns 0 and 1 from the DataFrame, while the target variables (y_train, y_test) correspond to column 2. The testing set size is set to 20% of the total dataset."
   ]
  },
  {
   "cell_type": "code",
   "execution_count": 10,
   "id": "4180d5db",
   "metadata": {},
   "outputs": [],
   "source": [
    "from sklearn.model_selection import train_test_split\n",
    "X_train,X_test,y_train,y_test=train_test_split(df[[0,1]],df[2],test_size=0.2)"
   ]
  },
  {
   "cell_type": "markdown",
   "id": "a2f48558",
   "metadata": {},
   "source": [
    "### Data Preprocessing:\n",
    "The features are standardized using scikit-learn's StandardScaler. The fit_transform method is applied to the training set (x_train), and the transform method is applied to the testing set (x_test)."
   ]
  },
  {
   "cell_type": "code",
   "execution_count": 11,
   "id": "b5864767",
   "metadata": {},
   "outputs": [],
   "source": [
    "from sklearn.preprocessing import StandardScaler\n",
    "std=StandardScaler()\n",
    "X_trains =std.fit_transform(X_train)\n",
    "X_tests =std.transform(X_test)"
   ]
  },
  {
   "cell_type": "markdown",
   "id": "a4e6ef7c",
   "metadata": {},
   "source": [
    "### Importing necessary libraries:\n",
    "- TensorFlow and Keras are libraries. \n",
    "- Sequential is a linear stack of neural network layers.\n",
    "- Dense represents a fully connected layer."
   ]
  },
  {
   "cell_type": "code",
   "execution_count": 12,
   "id": "e311cb3b",
   "metadata": {},
   "outputs": [],
   "source": [
    "import tensorflow\n",
    "from tensorflow import keras\n",
    "from keras.models import Sequential\n",
    "from keras.layers import Dense"
   ]
  },
  {
   "cell_type": "markdown",
   "id": "d7ff97f8",
   "metadata": {},
   "source": [
    "### Defining the model architecture:\n",
    "- The model is created using the Sequential API. \n",
    "- It consists of five layers: one input layer with 2 units, three hidden layers with 5, 4, 3 and 2 units respectively, and an output layer with 1 unit. \n",
    "- The activation functions used in the hidden layers are hyperbolic tangent (tanh), while the output layer uses a sigmoid activation function."
   ]
  },
  {
   "cell_type": "code",
   "execution_count": 26,
   "id": "d2c9e368",
   "metadata": {},
   "outputs": [],
   "source": [
    "model=Sequential()\n",
    "model.add(Dense(4,activation=\"tanh\",input_dim=2))\n",
    "\n",
    "model.add(Dense(3,activation=\"tanh\"))\n",
    "\n",
    "#model.add(Dense(3,activation=\"tanh\"))\n",
    "\n",
    "model.add(Dense(2,activation=\"tanh\"))\n",
    "\n",
    "model.add(Dense(1,activation=\"sigmoid\"))"
   ]
  },
  {
   "cell_type": "markdown",
   "id": "59173e48",
   "metadata": {},
   "source": [
    "### Model summary:\n",
    "This line prints a summary of the model architecture, including the number of parameters in each layer and the total number of parameters."
   ]
  },
  {
   "cell_type": "code",
   "execution_count": 27,
   "id": "86787037",
   "metadata": {},
   "outputs": [
    {
     "name": "stdout",
     "output_type": "stream",
     "text": [
      "Model: \"sequential_2\"\n",
      "_________________________________________________________________\n",
      " Layer (type)                Output Shape              Param #   \n",
      "=================================================================\n",
      " dense_9 (Dense)             (None, 4)                 12        \n",
      "                                                                 \n",
      " dense_10 (Dense)            (None, 3)                 15        \n",
      "                                                                 \n",
      " dense_11 (Dense)            (None, 2)                 8         \n",
      "                                                                 \n",
      " dense_12 (Dense)            (None, 1)                 3         \n",
      "                                                                 \n",
      "=================================================================\n",
      "Total params: 38\n",
      "Trainable params: 38\n",
      "Non-trainable params: 0\n",
      "_________________________________________________________________\n"
     ]
    }
   ],
   "source": [
    "model.summary()"
   ]
  },
  {
   "cell_type": "markdown",
   "id": "dacbb4dd",
   "metadata": {},
   "source": [
    "### Compiling the model:\n",
    "The model is compiled with the Adam optimizer, binary cross-entropy loss function (suitable for binary classification problems), and accuracy as the evaluation metric."
   ]
  },
  {
   "cell_type": "code",
   "execution_count": 28,
   "id": "2aa81345",
   "metadata": {},
   "outputs": [],
   "source": [
    "model.compile(optimizer=\"Adam\",loss=\"binary_crossentropy\",metrics=[\"accuracy\"])"
   ]
  },
  {
   "cell_type": "markdown",
   "id": "8159f572",
   "metadata": {},
   "source": [
    "### Training the model:\n",
    "- The model is trained on the training data (X_train and y_train) for 50 epochs with a batch size of 20. \n",
    "- The training data is split into a training set and a validation set (20% of the data) for monitoring the validation loss and accuracy during training. \n",
    "- The training history is stored in the history object."
   ]
  },
  {
   "cell_type": "code",
   "execution_count": 29,
   "id": "3b0eb214",
   "metadata": {},
   "outputs": [
    {
     "name": "stdout",
     "output_type": "stream",
     "text": [
      "Epoch 1/50\n",
      "20/20 [==============================] - 1s 10ms/step - loss: 0.6795 - accuracy: 1.0000 - val_loss: 0.6741 - val_accuracy: 1.0000\n",
      "Epoch 2/50\n",
      "20/20 [==============================] - 0s 3ms/step - loss: 0.6687 - accuracy: 1.0000 - val_loss: 0.6613 - val_accuracy: 1.0000\n",
      "Epoch 3/50\n",
      "20/20 [==============================] - 0s 3ms/step - loss: 0.6549 - accuracy: 1.0000 - val_loss: 0.6457 - val_accuracy: 1.0000\n",
      "Epoch 4/50\n",
      "20/20 [==============================] - 0s 3ms/step - loss: 0.6385 - accuracy: 1.0000 - val_loss: 0.6277 - val_accuracy: 1.0000\n",
      "Epoch 5/50\n",
      "20/20 [==============================] - 0s 3ms/step - loss: 0.6200 - accuracy: 1.0000 - val_loss: 0.6080 - val_accuracy: 1.0000\n",
      "Epoch 6/50\n",
      "20/20 [==============================] - 0s 3ms/step - loss: 0.6002 - accuracy: 1.0000 - val_loss: 0.5876 - val_accuracy: 1.0000\n",
      "Epoch 7/50\n",
      "20/20 [==============================] - 0s 3ms/step - loss: 0.5795 - accuracy: 1.0000 - val_loss: 0.5666 - val_accuracy: 1.0000\n",
      "Epoch 8/50\n",
      "20/20 [==============================] - 0s 3ms/step - loss: 0.5585 - accuracy: 1.0000 - val_loss: 0.5454 - val_accuracy: 1.0000\n",
      "Epoch 9/50\n",
      "20/20 [==============================] - 0s 3ms/step - loss: 0.5373 - accuracy: 1.0000 - val_loss: 0.5243 - val_accuracy: 1.0000\n",
      "Epoch 10/50\n",
      "20/20 [==============================] - 0s 3ms/step - loss: 0.5162 - accuracy: 1.0000 - val_loss: 0.5035 - val_accuracy: 1.0000\n",
      "Epoch 11/50\n",
      "20/20 [==============================] - 0s 3ms/step - loss: 0.4955 - accuracy: 1.0000 - val_loss: 0.4832 - val_accuracy: 1.0000\n",
      "Epoch 12/50\n",
      "20/20 [==============================] - 0s 3ms/step - loss: 0.4754 - accuracy: 1.0000 - val_loss: 0.4636 - val_accuracy: 1.0000\n",
      "Epoch 13/50\n",
      "20/20 [==============================] - 0s 3ms/step - loss: 0.4562 - accuracy: 1.0000 - val_loss: 0.4447 - val_accuracy: 1.0000\n",
      "Epoch 14/50\n",
      "20/20 [==============================] - 0s 3ms/step - loss: 0.4376 - accuracy: 1.0000 - val_loss: 0.4268 - val_accuracy: 1.0000\n",
      "Epoch 15/50\n",
      "20/20 [==============================] - 0s 3ms/step - loss: 0.4199 - accuracy: 1.0000 - val_loss: 0.4097 - val_accuracy: 1.0000\n",
      "Epoch 16/50\n",
      "20/20 [==============================] - 0s 3ms/step - loss: 0.4032 - accuracy: 1.0000 - val_loss: 0.3935 - val_accuracy: 1.0000\n",
      "Epoch 17/50\n",
      "20/20 [==============================] - 0s 3ms/step - loss: 0.3873 - accuracy: 1.0000 - val_loss: 0.3782 - val_accuracy: 1.0000\n",
      "Epoch 18/50\n",
      "20/20 [==============================] - 0s 3ms/step - loss: 0.3724 - accuracy: 1.0000 - val_loss: 0.3637 - val_accuracy: 1.0000\n",
      "Epoch 19/50\n",
      "20/20 [==============================] - 0s 3ms/step - loss: 0.3582 - accuracy: 1.0000 - val_loss: 0.3501 - val_accuracy: 1.0000\n",
      "Epoch 20/50\n",
      "20/20 [==============================] - 0s 3ms/step - loss: 0.3449 - accuracy: 1.0000 - val_loss: 0.3372 - val_accuracy: 1.0000\n",
      "Epoch 21/50\n",
      "20/20 [==============================] - 0s 3ms/step - loss: 0.3323 - accuracy: 1.0000 - val_loss: 0.3250 - val_accuracy: 1.0000\n",
      "Epoch 22/50\n",
      "20/20 [==============================] - 0s 3ms/step - loss: 0.3203 - accuracy: 1.0000 - val_loss: 0.3135 - val_accuracy: 1.0000\n",
      "Epoch 23/50\n",
      "20/20 [==============================] - 0s 3ms/step - loss: 0.3091 - accuracy: 1.0000 - val_loss: 0.3027 - val_accuracy: 1.0000\n",
      "Epoch 24/50\n",
      "20/20 [==============================] - 0s 3ms/step - loss: 0.2985 - accuracy: 1.0000 - val_loss: 0.2924 - val_accuracy: 1.0000\n",
      "Epoch 25/50\n",
      "20/20 [==============================] - 0s 3ms/step - loss: 0.2884 - accuracy: 1.0000 - val_loss: 0.2826 - val_accuracy: 1.0000\n",
      "Epoch 26/50\n",
      "20/20 [==============================] - 0s 3ms/step - loss: 0.2788 - accuracy: 1.0000 - val_loss: 0.2733 - val_accuracy: 1.0000\n",
      "Epoch 27/50\n",
      "20/20 [==============================] - 0s 3ms/step - loss: 0.2697 - accuracy: 1.0000 - val_loss: 0.2645 - val_accuracy: 1.0000\n",
      "Epoch 28/50\n",
      "20/20 [==============================] - 0s 3ms/step - loss: 0.2611 - accuracy: 1.0000 - val_loss: 0.2561 - val_accuracy: 1.0000\n",
      "Epoch 29/50\n",
      "20/20 [==============================] - 0s 3ms/step - loss: 0.2528 - accuracy: 1.0000 - val_loss: 0.2482 - val_accuracy: 1.0000\n",
      "Epoch 30/50\n",
      "20/20 [==============================] - 0s 3ms/step - loss: 0.2450 - accuracy: 1.0000 - val_loss: 0.2406 - val_accuracy: 1.0000\n",
      "Epoch 31/50\n",
      "20/20 [==============================] - 0s 3ms/step - loss: 0.2376 - accuracy: 1.0000 - val_loss: 0.2333 - val_accuracy: 1.0000\n",
      "Epoch 32/50\n",
      "20/20 [==============================] - 0s 3ms/step - loss: 0.2305 - accuracy: 1.0000 - val_loss: 0.2264 - val_accuracy: 1.0000\n",
      "Epoch 33/50\n",
      "20/20 [==============================] - 0s 3ms/step - loss: 0.2237 - accuracy: 1.0000 - val_loss: 0.2198 - val_accuracy: 1.0000\n",
      "Epoch 34/50\n",
      "20/20 [==============================] - 0s 3ms/step - loss: 0.2172 - accuracy: 1.0000 - val_loss: 0.2135 - val_accuracy: 1.0000\n",
      "Epoch 35/50\n",
      "20/20 [==============================] - 0s 3ms/step - loss: 0.2110 - accuracy: 1.0000 - val_loss: 0.2075 - val_accuracy: 1.0000\n",
      "Epoch 36/50\n",
      "20/20 [==============================] - 0s 3ms/step - loss: 0.2050 - accuracy: 1.0000 - val_loss: 0.2017 - val_accuracy: 1.0000\n",
      "Epoch 37/50\n",
      "20/20 [==============================] - 0s 2ms/step - loss: 0.1993 - accuracy: 1.0000 - val_loss: 0.1961 - val_accuracy: 1.0000\n",
      "Epoch 38/50\n",
      "20/20 [==============================] - 0s 3ms/step - loss: 0.1939 - accuracy: 1.0000 - val_loss: 0.1908 - val_accuracy: 1.0000\n",
      "Epoch 39/50\n",
      "20/20 [==============================] - 0s 3ms/step - loss: 0.1887 - accuracy: 1.0000 - val_loss: 0.1857 - val_accuracy: 1.0000\n",
      "Epoch 40/50\n",
      "20/20 [==============================] - 0s 3ms/step - loss: 0.1836 - accuracy: 1.0000 - val_loss: 0.1808 - val_accuracy: 1.0000\n",
      "Epoch 41/50\n",
      "20/20 [==============================] - 0s 3ms/step - loss: 0.1788 - accuracy: 1.0000 - val_loss: 0.1761 - val_accuracy: 1.0000\n",
      "Epoch 42/50\n",
      "20/20 [==============================] - 0s 3ms/step - loss: 0.1742 - accuracy: 1.0000 - val_loss: 0.1715 - val_accuracy: 1.0000\n",
      "Epoch 43/50\n",
      "20/20 [==============================] - 0s 3ms/step - loss: 0.1697 - accuracy: 1.0000 - val_loss: 0.1672 - val_accuracy: 1.0000\n",
      "Epoch 44/50\n",
      "20/20 [==============================] - 0s 3ms/step - loss: 0.1654 - accuracy: 1.0000 - val_loss: 0.1630 - val_accuracy: 1.0000\n",
      "Epoch 45/50\n",
      "20/20 [==============================] - 0s 3ms/step - loss: 0.1613 - accuracy: 1.0000 - val_loss: 0.1589 - val_accuracy: 1.0000\n",
      "Epoch 46/50\n",
      "20/20 [==============================] - 0s 3ms/step - loss: 0.1573 - accuracy: 1.0000 - val_loss: 0.1550 - val_accuracy: 1.0000\n",
      "Epoch 47/50\n",
      "20/20 [==============================] - 0s 3ms/step - loss: 0.1535 - accuracy: 1.0000 - val_loss: 0.1513 - val_accuracy: 1.0000\n",
      "Epoch 48/50\n",
      "20/20 [==============================] - 0s 3ms/step - loss: 0.1498 - accuracy: 1.0000 - val_loss: 0.1477 - val_accuracy: 1.0000\n",
      "Epoch 49/50\n",
      "20/20 [==============================] - 0s 3ms/step - loss: 0.1462 - accuracy: 1.0000 - val_loss: 0.1442 - val_accuracy: 1.0000\n",
      "Epoch 50/50\n",
      "20/20 [==============================] - 0s 3ms/step - loss: 0.1427 - accuracy: 1.0000 - val_loss: 0.1408 - val_accuracy: 1.0000\n"
     ]
    }
   ],
   "source": [
    "history=model.fit(X_trains,y_train,batch_size=20,epochs=50,validation_split=0.2)"
   ]
  },
  {
   "cell_type": "markdown",
   "id": "07cfd154",
   "metadata": {},
   "source": [
    "### Plotting the decision regions for the training data:\n",
    "- The plot_decision_regions function from the mlxtend library to visualize the decision regions of the model on the training data. \n",
    "- The data points are plotted, and the decision regions are highlighted.\n",
    "- The title, x-label, and y-label are set accordingly."
   ]
  },
  {
   "cell_type": "code",
   "execution_count": 41,
   "id": "c4bfe807",
   "metadata": {},
   "outputs": [],
   "source": [
    "from mlxtend.plotting import plot_decision_regions "
   ]
  },
  {
   "cell_type": "code",
   "execution_count": 42,
   "id": "8f61dc75",
   "metadata": {},
   "outputs": [
    {
     "data": {
      "text/plain": [
       "<AxesSubplot:>"
      ]
     },
     "execution_count": 42,
     "metadata": {},
     "output_type": "execute_result"
    },
    {
     "data": {
      "image/png": "[encoded data removed]",
      "text/plain": [
       "<Figure size 432x288 with 1 Axes>"
      ]
     },
     "metadata": {
      "needs_background": "light"
     },
     "output_type": "display_data"
    }
   ],
   "source": [
    "plot_decision_regions(df[[0,1]].values,df[2].values.astype(int),clf=model)"
   ]
  },
  {
   "cell_type": "markdown",
   "id": "b99bfa5a",
   "metadata": {},
   "source": [
    "### Making predictions on the test data and calculating accuracy:\n",
    "- The model is used to predict the outputs (y_pred) for the test data (X_tests). \n",
    "- The predicted values are then thresholded at 0.5 to obtain binary predictions (y_predf).\n"
   ]
  },
  {
   "cell_type": "code",
   "execution_count": 43,
   "id": "683b0bb8",
   "metadata": {},
   "outputs": [],
   "source": [
    "y_pred=model.predict(X_tests)"
   ]
  },
  {
   "cell_type": "code",
   "execution_count": 44,
   "id": "ce9e0f20",
   "metadata": {},
   "outputs": [],
   "source": [
    "\n",
    "y_predf = np.array([1 if x>0.5 else 0 for x in y_pred])"
   ]
  },
  {
   "cell_type": "markdown",
   "id": "3e5eeb29",
   "metadata": {},
   "source": [
    "#### Computing the accuracy of the predictions is calculated using the accuracy_score function from scikit-learn by comparing the predicted values (y_predf) with the true values (y_test)."
   ]
  },
  {
   "cell_type": "code",
   "execution_count": 45,
   "id": "4420544a",
   "metadata": {},
   "outputs": [
    {
     "data": {
      "text/plain": [
       "1.0"
      ]
     },
     "execution_count": 45,
     "metadata": {},
     "output_type": "execute_result"
    }
   ],
   "source": [
    "from sklearn.metrics import accuracy_score\n",
    "accuracy_score(y_test,y_predf)"
   ]
  },
  {
   "cell_type": "code",
   "execution_count": 46,
   "id": "b198b01c",
   "metadata": {},
   "outputs": [
    {
     "data": {
      "text/plain": [
       "[<matplotlib.lines.Line2D at 0x189d383e070>]"
      ]
     },
     "execution_count": 46,
     "metadata": {},
     "output_type": "execute_result"
    },
    {
     "data": {
      "image/png": "[encoded data removed]",
      "text/plain": [
       "<Figure size 432x288 with 1 Axes>"
      ]
     },
     "metadata": {
      "needs_background": "light"
     },
     "output_type": "display_data"
    }
   ],
   "source": [
    "plt.plot(history.history['loss'])\n",
    "plt.plot(history.history['val_loss'])"
   ]
  },
  {
   "cell_type": "markdown",
   "id": "cc864552",
   "metadata": {},
   "source": [
    "### Plotting the decision regions for the test data:\n",
    "- The decision regions of the model on the test data (X_tests). \n",
    "- The data points are plotted, and the decision regions are shown. \n",
    "- The title, x-label, and y-label are set accordingly."
   ]
  },
  {
   "cell_type": "code",
   "execution_count": 49,
   "id": "9ba31310",
   "metadata": {},
   "outputs": [
    {
     "data": {
      "text/plain": [
       "<AxesSubplot:>"
      ]
     },
     "execution_count": 49,
     "metadata": {},
     "output_type": "execute_result"
    },
    {
     "data": {
      "image/png": "[encoded data removed]",
      "text/plain": [
       "<Figure size 432x288 with 1 Axes>"
      ]
     },
     "metadata": {
      "needs_background": "light"
     },
     "output_type": "display_data"
    }
   ],
   "source": [
    "from mlxtend.plotting import plot_decision_regions \n",
    "plot_decision_regions(X_tests,y_test.values.astype(int),clf=model)"
   ]
  },
  {
   "cell_type": "markdown",
   "id": "e9321181",
   "metadata": {},
   "source": [
    "#### Overall, this code demonstrates the creation, training, and evaluation of a neural network model using Keras with TensorFlow backend. It also provides visualizations of the decision regions for both the training and test data."
   ]
  },
  {
   "cell_type": "code",
   "execution_count": null,
   "id": "7f11352f",
   "metadata": {},
   "outputs": [],
   "source": []
  }
 ],
 "metadata": {
  "kernelspec": {
   "display_name": "Python 3 (ipykernel)",
   "language": "python",
   "name": "python3"
  },
  "language_info": {
   "codemirror_mode": {
    "name": "ipython",
    "version": 3
   },
   "file_extension": ".py",
   "mimetype": "text/x-python",
   "name": "python",
   "nbconvert_exporter": "python",
   "pygments_lexer": "ipython3",
   "version": "3.9.12"
  }
 },
 "nbformat": 4,
 "nbformat_minor": 5
}
