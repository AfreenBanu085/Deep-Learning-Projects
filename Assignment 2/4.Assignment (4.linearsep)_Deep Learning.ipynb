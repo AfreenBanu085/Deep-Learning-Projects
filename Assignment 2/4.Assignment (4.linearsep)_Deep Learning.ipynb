{
 "cells": [
  {
   "cell_type": "markdown",
   "id": "c30517ff",
   "metadata": {},
   "source": [
    "### Documentation:\n",
    "#### Data Set:4.linearsep\n",
    "\n",
    "\n",
    "### Data Description:\n",
    "- The dataset consists of three columns and 100 rows which includes two feature columns and one label column. \n",
    "- Features columns are in the form of float and continuous values ranges from [-1.801737 to 3.108743] and [0.568025 to 3.892678] and the means are at [0.930868 and 1.855540]. \n",
    "- Whereas label is in the form discreate numerical float values that includes [0.0 and 1.o]. 50% of the data consists of 0 and rest consists of 1 as labels. There are zero duplicates and no null values consists in the dataset. \n",
    "- Pattern that is formed by the input features is linear separating. \n",
    "- That means a liner line is separating 0 label and 1 label."
   ]
  },
  {
   "cell_type": "markdown",
   "id": "0eb81e9b",
   "metadata": {},
   "source": [
    "### Importing Libraries: The required libraries are imported at the beginning of the code."
   ]
  },
  {
   "cell_type": "code",
   "execution_count": 1,
   "id": "e08f1ad8",
   "metadata": {},
   "outputs": [],
   "source": [
    "import pandas as pd\n",
    "import numpy as np\n",
    "import matplotlib.pyplot as plt\n",
    "import seaborn as sns "
   ]
  },
  {
   "cell_type": "markdown",
   "id": "c4622686",
   "metadata": {},
   "source": [
    "### Loading the Dataset:\n",
    "The code reads a CSV file using Pandas, assuming the file is located at\"C:\\\\Users\\\\dell\\\\Downloads\\\\Deep Learning data\\\\4.linearsep.csv\". The dataset is stored in the DataFrame df."
   ]
  },
  {
   "cell_type": "code",
   "execution_count": 2,
   "id": "8a6ab4ff",
   "metadata": {},
   "outputs": [
    {
     "data": {
      "text/html": [
       "<div>\n",
       "<style scoped>\n",
       "    .dataframe tbody tr th:only-of-type {\n",
       "        vertical-align: middle;\n",
       "    }\n",
       "\n",
       "    .dataframe tbody tr th {\n",
       "        vertical-align: top;\n",
       "    }\n",
       "\n",
       "    .dataframe thead th {\n",
       "        text-align: right;\n",
       "    }\n",
       "</style>\n",
       "<table border=\"1\" class=\"dataframe\">\n",
       "  <thead>\n",
       "    <tr style=\"text-align: right;\">\n",
       "      <th></th>\n",
       "      <th>0</th>\n",
       "      <th>1</th>\n",
       "      <th>2</th>\n",
       "    </tr>\n",
       "  </thead>\n",
       "  <tbody>\n",
       "    <tr>\n",
       "      <th>0</th>\n",
       "      <td>-0.177497</td>\n",
       "      <td>0.930496</td>\n",
       "      <td>1.0</td>\n",
       "    </tr>\n",
       "    <tr>\n",
       "      <th>1</th>\n",
       "      <td>1.977424</td>\n",
       "      <td>1.766155</td>\n",
       "      <td>0.0</td>\n",
       "    </tr>\n",
       "    <tr>\n",
       "      <th>2</th>\n",
       "      <td>1.800024</td>\n",
       "      <td>1.700343</td>\n",
       "      <td>0.0</td>\n",
       "    </tr>\n",
       "    <tr>\n",
       "      <th>3</th>\n",
       "      <td>-0.770837</td>\n",
       "      <td>2.359163</td>\n",
       "      <td>1.0</td>\n",
       "    </tr>\n",
       "    <tr>\n",
       "      <th>4</th>\n",
       "      <td>-0.308009</td>\n",
       "      <td>1.594063</td>\n",
       "      <td>1.0</td>\n",
       "    </tr>\n",
       "  </tbody>\n",
       "</table>\n",
       "</div>"
      ],
      "text/plain": [
       "          0         1    2\n",
       "0 -0.177497  0.930496  1.0\n",
       "1  1.977424  1.766155  0.0\n",
       "2  1.800024  1.700343  0.0\n",
       "3 -0.770837  2.359163  1.0\n",
       "4 -0.308009  1.594063  1.0"
      ]
     },
     "execution_count": 2,
     "metadata": {},
     "output_type": "execute_result"
    }
   ],
   "source": [
    "df = pd.read_csv(\"C:\\\\Users\\\\dell\\\\Downloads\\\\Deep Learning data\\\\4.linearsep.csv\",header = None)\n",
    "df.head()"
   ]
  },
  {
   "cell_type": "markdown",
   "id": "7f090b99",
   "metadata": {},
   "source": [
    "#### Gives the dimensions of the dataset (number of rows, number of columns).\n"
   ]
  },
  {
   "cell_type": "code",
   "execution_count": 3,
   "id": "5e0ca46c",
   "metadata": {},
   "outputs": [
    {
     "data": {
      "text/plain": [
       "(100, 3)"
      ]
     },
     "execution_count": 3,
     "metadata": {},
     "output_type": "execute_result"
    }
   ],
   "source": [
    "df.shape"
   ]
  },
  {
   "cell_type": "markdown",
   "id": "d1aa1a15",
   "metadata": {},
   "source": [
    "#### Provides information about the dataset, including the data types of each column and the number of non-null values.\n"
   ]
  },
  {
   "cell_type": "code",
   "execution_count": 4,
   "id": "745669be",
   "metadata": {},
   "outputs": [
    {
     "name": "stdout",
     "output_type": "stream",
     "text": [
      "<class 'pandas.core.frame.DataFrame'>\n",
      "RangeIndex: 100 entries, 0 to 99\n",
      "Data columns (total 3 columns):\n",
      " #   Column  Non-Null Count  Dtype  \n",
      "---  ------  --------------  -----  \n",
      " 0   0       100 non-null    float64\n",
      " 1   1       100 non-null    float64\n",
      " 2   2       100 non-null    float64\n",
      "dtypes: float64(3)\n",
      "memory usage: 2.5 KB\n"
     ]
    }
   ],
   "source": [
    "df.info()"
   ]
  },
  {
   "cell_type": "markdown",
   "id": "a8159693",
   "metadata": {},
   "source": [
    "#### Generates descriptive statistics of the dataset, such as count, mean, standard deviation, minimum, and maximum values for each numerical column. "
   ]
  },
  {
   "cell_type": "code",
   "execution_count": 5,
   "id": "b7381d5c",
   "metadata": {},
   "outputs": [
    {
     "data": {
      "text/html": [
       "<div>\n",
       "<style scoped>\n",
       "    .dataframe tbody tr th:only-of-type {\n",
       "        vertical-align: middle;\n",
       "    }\n",
       "\n",
       "    .dataframe tbody tr th {\n",
       "        vertical-align: top;\n",
       "    }\n",
       "\n",
       "    .dataframe thead th {\n",
       "        text-align: right;\n",
       "    }\n",
       "</style>\n",
       "<table border=\"1\" class=\"dataframe\">\n",
       "  <thead>\n",
       "    <tr style=\"text-align: right;\">\n",
       "      <th></th>\n",
       "      <th>0</th>\n",
       "      <th>1</th>\n",
       "      <th>2</th>\n",
       "    </tr>\n",
       "  </thead>\n",
       "  <tbody>\n",
       "    <tr>\n",
       "      <th>count</th>\n",
       "      <td>100.000000</td>\n",
       "      <td>100.000000</td>\n",
       "      <td>100.000000</td>\n",
       "    </tr>\n",
       "    <tr>\n",
       "      <th>mean</th>\n",
       "      <td>0.930868</td>\n",
       "      <td>1.855540</td>\n",
       "      <td>0.500000</td>\n",
       "    </tr>\n",
       "    <tr>\n",
       "      <th>std</th>\n",
       "      <td>1.248367</td>\n",
       "      <td>0.713457</td>\n",
       "      <td>0.502519</td>\n",
       "    </tr>\n",
       "    <tr>\n",
       "      <th>min</th>\n",
       "      <td>-1.801737</td>\n",
       "      <td>0.568025</td>\n",
       "      <td>0.000000</td>\n",
       "    </tr>\n",
       "    <tr>\n",
       "      <th>25%</th>\n",
       "      <td>-0.143369</td>\n",
       "      <td>1.296152</td>\n",
       "      <td>0.000000</td>\n",
       "    </tr>\n",
       "    <tr>\n",
       "      <th>50%</th>\n",
       "      <td>1.171946</td>\n",
       "      <td>1.806731</td>\n",
       "      <td>0.500000</td>\n",
       "    </tr>\n",
       "    <tr>\n",
       "      <th>75%</th>\n",
       "      <td>1.881075</td>\n",
       "      <td>2.249652</td>\n",
       "      <td>1.000000</td>\n",
       "    </tr>\n",
       "    <tr>\n",
       "      <th>max</th>\n",
       "      <td>3.108743</td>\n",
       "      <td>3.892678</td>\n",
       "      <td>1.000000</td>\n",
       "    </tr>\n",
       "  </tbody>\n",
       "</table>\n",
       "</div>"
      ],
      "text/plain": [
       "                0           1           2\n",
       "count  100.000000  100.000000  100.000000\n",
       "mean     0.930868    1.855540    0.500000\n",
       "std      1.248367    0.713457    0.502519\n",
       "min     -1.801737    0.568025    0.000000\n",
       "25%     -0.143369    1.296152    0.000000\n",
       "50%      1.171946    1.806731    0.500000\n",
       "75%      1.881075    2.249652    1.000000\n",
       "max      3.108743    3.892678    1.000000"
      ]
     },
     "execution_count": 5,
     "metadata": {},
     "output_type": "execute_result"
    }
   ],
   "source": [
    "df.describe()"
   ]
  },
  {
   "cell_type": "code",
   "execution_count": 6,
   "id": "235382d9",
   "metadata": {},
   "outputs": [
    {
     "data": {
      "text/plain": [
       "0    0\n",
       "1    0\n",
       "2    0\n",
       "dtype: int64"
      ]
     },
     "execution_count": 6,
     "metadata": {},
     "output_type": "execute_result"
    }
   ],
   "source": [
    "df.isna().sum()"
   ]
  },
  {
   "cell_type": "code",
   "execution_count": 7,
   "id": "3060257b",
   "metadata": {},
   "outputs": [
    {
     "data": {
      "text/plain": [
       "0"
      ]
     },
     "execution_count": 7,
     "metadata": {},
     "output_type": "execute_result"
    }
   ],
   "source": [
    "df.duplicated().sum()"
   ]
  },
  {
   "cell_type": "code",
   "execution_count": 8,
   "id": "3edf5d4d",
   "metadata": {},
   "outputs": [
    {
     "data": {
      "text/plain": [
       "1.0    50\n",
       "0.0    50\n",
       "Name: 2, dtype: int64"
      ]
     },
     "execution_count": 8,
     "metadata": {},
     "output_type": "execute_result"
    }
   ],
   "source": [
    "df[2].value_counts()"
   ]
  },
  {
   "cell_type": "markdown",
   "id": "3a06cbbb",
   "metadata": {},
   "source": [
    "### Data Visualization:\n",
    "A scatter plot is created using Seaborn to visualize the data points, where the x-axis represents df[0], the y-axis represents df[1], and the color of the points is determined by df[2]"
   ]
  },
  {
   "cell_type": "code",
   "execution_count": 9,
   "id": "38636f1d",
   "metadata": {},
   "outputs": [
    {
     "name": "stderr",
     "output_type": "stream",
     "text": [
      "C:\\Users\\dell\\anaconda3\\lib\\site-packages\\seaborn\\_decorators.py:36: FutureWarning: Pass the following variables as keyword args: x, y. From version 0.12, the only valid positional argument will be `data`, and passing other arguments without an explicit keyword will result in an error or misinterpretation.\n",
      "  warnings.warn(\n"
     ]
    },
    {
     "data": {
      "text/plain": [
       "<AxesSubplot:xlabel='0', ylabel='1'>"
      ]
     },
     "execution_count": 9,
     "metadata": {},
     "output_type": "execute_result"
    },
    {
     "data": {
      "image/png": "[encoded data removed]",
      "text/plain": [
       "<Figure size 432x288 with 1 Axes>"
      ]
     },
     "metadata": {
      "needs_background": "light"
     },
     "output_type": "display_data"
    }
   ],
   "source": [
    "sns.scatterplot(df[0],df[1],hue = df[2])"
   ]
  },
  {
   "cell_type": "markdown",
   "id": "2bf360c9",
   "metadata": {},
   "source": [
    "### Train-Test Split:\n",
    "The dataset is split into training and testing sets using the train_test_split function from scikit-learn. The features (x_train, x_test) consist of columns 0 and 1 from the DataFrame, while the target variables (y_train, y_test) correspond to column 2. The testing set size is set to 10% of the total dataset."
   ]
  },
  {
   "cell_type": "code",
   "execution_count": 10,
   "id": "58ddac3c",
   "metadata": {},
   "outputs": [],
   "source": [
    "from sklearn.model_selection import train_test_split\n",
    "X_train,X_test,y_train,y_test=train_test_split(df[[0,1]],df[2],test_size=0.1)"
   ]
  },
  {
   "cell_type": "markdown",
   "id": "9184c828",
   "metadata": {},
   "source": [
    "### Data Preprocessing:\n",
    "The features are standardized using scikit-learn's StandardScaler. The fit_transform method is applied to the training set (x_train), and the transform method is applied to the testing set (x_test)."
   ]
  },
  {
   "cell_type": "code",
   "execution_count": 11,
   "id": "101818c0",
   "metadata": {},
   "outputs": [],
   "source": [
    "from sklearn.preprocessing import StandardScaler\n",
    "std=StandardScaler()\n",
    "X_trains =std.fit_transform(X_train)\n",
    "X_tests =std.transform(X_test)"
   ]
  },
  {
   "cell_type": "markdown",
   "id": "b97ae40d",
   "metadata": {},
   "source": [
    "### Importing necessary libraries:\n",
    "- TensorFlow and Keras are libraries.\n",
    "- Sequential is a linear stack of neural network layers.\n",
    "- Dense represents a fully connected layer."
   ]
  },
  {
   "cell_type": "code",
   "execution_count": 12,
   "id": "33e99bbd",
   "metadata": {},
   "outputs": [],
   "source": [
    "import tensorflow\n",
    "from tensorflow import keras\n",
    "from keras.models import Sequential\n",
    "from keras.layers import Dense"
   ]
  },
  {
   "cell_type": "markdown",
   "id": "b8aa128e",
   "metadata": {},
   "source": [
    "### Model Architecture:\n",
    "The neural network model is defined using the Sequential class from Keras. It consists of five dense layers, each with a different number of units and activation functions."
   ]
  },
  {
   "cell_type": "code",
   "execution_count": 40,
   "id": "d300c700",
   "metadata": {},
   "outputs": [],
   "source": [
    "model = Sequential()\n",
    "model.add(Dense(6,activation=\"relu\",kernel_initializer='he_uniform',input_dim=2))\n",
    "\n",
    "model.add(Dense(4,activation=\"relu\",kernel_initializer='he_uniform'))\n",
    "\n",
    "model.add(Dense(3,activation=\"relu\",kernel_initializer='he_uniform'))\n",
    "\n",
    "model.add(Dense(2,activation=\"relu\",kernel_initializer='he_uniform'))\n",
    "\n",
    "model.add(Dense(1,activation=\"sigmoid\"))"
   ]
  },
  {
   "cell_type": "markdown",
   "id": "c7b142b3",
   "metadata": {},
   "source": [
    "### Model Summary: \n",
    "The model summary is printed, which provides an overview of the model architecture, including the number of parameters and the output shapes of each layer."
   ]
  },
  {
   "cell_type": "code",
   "execution_count": 41,
   "id": "6485feee",
   "metadata": {},
   "outputs": [
    {
     "name": "stdout",
     "output_type": "stream",
     "text": [
      "Model: \"sequential_2\"\n",
      "_________________________________________________________________\n",
      " Layer (type)                Output Shape              Param #   \n",
      "=================================================================\n",
      " dense_12 (Dense)            (None, 6)                 18        \n",
      "                                                                 \n",
      " dense_13 (Dense)            (None, 4)                 28        \n",
      "                                                                 \n",
      " dense_14 (Dense)            (None, 3)                 15        \n",
      "                                                                 \n",
      " dense_15 (Dense)            (None, 2)                 8         \n",
      "                                                                 \n",
      " dense_16 (Dense)            (None, 1)                 3         \n",
      "                                                                 \n",
      "=================================================================\n",
      "Total params: 72\n",
      "Trainable params: 72\n",
      "Non-trainable params: 0\n",
      "_________________________________________________________________\n"
     ]
    }
   ],
   "source": [
    "model.summary()"
   ]
  },
  {
   "cell_type": "markdown",
   "id": "9c12bf10",
   "metadata": {},
   "source": [
    "### Model Compilation: \n",
    "The model is compiled with the Adam optimizer, binary cross-entropy loss function, and accuracy as the evaluation metric."
   ]
  },
  {
   "cell_type": "code",
   "execution_count": 42,
   "id": "dd401e46",
   "metadata": {},
   "outputs": [],
   "source": [
    "model.compile(optimizer=\"Adam\",loss=\"binary_crossentropy\",metrics=[\"accuracy\"])"
   ]
  },
  {
   "cell_type": "markdown",
   "id": "96c3fabf",
   "metadata": {},
   "source": [
    "### Model Training: \n",
    "- The model is trained on the training data (X_trains and y_train) for 50 epochs with a batch size of 12. \n",
    "- A validation split of 0.2 is used to monitor the validation loss and accuracy during training.\n",
    "- The training history is stored in the 'history' variable."
   ]
  },
  {
   "cell_type": "code",
   "execution_count": 43,
   "id": "1b4aa090",
   "metadata": {},
   "outputs": [
    {
     "name": "stdout",
     "output_type": "stream",
     "text": [
      "Epoch 1/50\n",
      "6/6 [==============================] - 0s 23ms/step - loss: 0.6747 - accuracy: 0.5972 - val_loss: 0.6752 - val_accuracy: 0.4444\n",
      "Epoch 2/50\n",
      "6/6 [==============================] - 0s 5ms/step - loss: 0.6649 - accuracy: 0.5417 - val_loss: 0.6656 - val_accuracy: 0.7222\n",
      "Epoch 3/50\n",
      "6/6 [==============================] - 0s 4ms/step - loss: 0.6576 - accuracy: 0.8056 - val_loss: 0.6564 - val_accuracy: 0.7222\n",
      "Epoch 4/50\n",
      "6/6 [==============================] - 0s 4ms/step - loss: 0.6495 - accuracy: 0.8194 - val_loss: 0.6473 - val_accuracy: 0.7222\n",
      "Epoch 5/50\n",
      "6/6 [==============================] - 0s 4ms/step - loss: 0.6425 - accuracy: 0.8194 - val_loss: 0.6378 - val_accuracy: 0.7222\n",
      "Epoch 6/50\n",
      "6/6 [==============================] - 0s 4ms/step - loss: 0.6340 - accuracy: 0.8194 - val_loss: 0.6280 - val_accuracy: 0.7222\n",
      "Epoch 7/50\n",
      "6/6 [==============================] - 0s 4ms/step - loss: 0.6268 - accuracy: 0.8333 - val_loss: 0.6178 - val_accuracy: 0.7222\n",
      "Epoch 8/50\n",
      "6/6 [==============================] - 0s 4ms/step - loss: 0.6182 - accuracy: 0.8333 - val_loss: 0.6073 - val_accuracy: 0.7222\n",
      "Epoch 9/50\n",
      "6/6 [==============================] - 0s 4ms/step - loss: 0.6092 - accuracy: 0.8333 - val_loss: 0.5973 - val_accuracy: 0.7222\n",
      "Epoch 10/50\n",
      "6/6 [==============================] - 0s 4ms/step - loss: 0.6001 - accuracy: 0.8194 - val_loss: 0.5877 - val_accuracy: 0.7222\n",
      "Epoch 11/50\n",
      "6/6 [==============================] - 0s 4ms/step - loss: 0.5914 - accuracy: 0.8333 - val_loss: 0.5776 - val_accuracy: 0.7222\n",
      "Epoch 12/50\n",
      "6/6 [==============================] - 0s 4ms/step - loss: 0.5826 - accuracy: 0.8333 - val_loss: 0.5676 - val_accuracy: 0.7222\n",
      "Epoch 13/50\n",
      "6/6 [==============================] - 0s 4ms/step - loss: 0.5739 - accuracy: 0.8194 - val_loss: 0.5574 - val_accuracy: 0.7222\n",
      "Epoch 14/50\n",
      "6/6 [==============================] - 0s 4ms/step - loss: 0.5651 - accuracy: 0.8194 - val_loss: 0.5473 - val_accuracy: 0.7222\n",
      "Epoch 15/50\n",
      "6/6 [==============================] - 0s 4ms/step - loss: 0.5560 - accuracy: 0.8056 - val_loss: 0.5373 - val_accuracy: 0.7778\n",
      "Epoch 16/50\n",
      "6/6 [==============================] - 0s 4ms/step - loss: 0.5472 - accuracy: 0.8056 - val_loss: 0.5272 - val_accuracy: 0.8333\n",
      "Epoch 17/50\n",
      "6/6 [==============================] - 0s 5ms/step - loss: 0.5384 - accuracy: 0.8056 - val_loss: 0.5174 - val_accuracy: 0.8333\n",
      "Epoch 18/50\n",
      "6/6 [==============================] - 0s 4ms/step - loss: 0.5303 - accuracy: 0.8056 - val_loss: 0.5078 - val_accuracy: 0.8333\n",
      "Epoch 19/50\n",
      "6/6 [==============================] - 0s 4ms/step - loss: 0.5220 - accuracy: 0.8056 - val_loss: 0.4991 - val_accuracy: 0.8333\n",
      "Epoch 20/50\n",
      "6/6 [==============================] - 0s 4ms/step - loss: 0.5140 - accuracy: 0.8056 - val_loss: 0.4913 - val_accuracy: 0.8333\n",
      "Epoch 21/50\n",
      "6/6 [==============================] - 0s 4ms/step - loss: 0.5059 - accuracy: 0.8056 - val_loss: 0.4829 - val_accuracy: 0.8333\n",
      "Epoch 22/50\n",
      "6/6 [==============================] - 0s 4ms/step - loss: 0.4981 - accuracy: 0.8056 - val_loss: 0.4746 - val_accuracy: 0.8333\n",
      "Epoch 23/50\n",
      "6/6 [==============================] - 0s 4ms/step - loss: 0.4902 - accuracy: 0.8056 - val_loss: 0.4659 - val_accuracy: 0.8333\n",
      "Epoch 24/50\n",
      "6/6 [==============================] - 0s 4ms/step - loss: 0.4830 - accuracy: 0.8056 - val_loss: 0.4584 - val_accuracy: 0.8333\n",
      "Epoch 25/50\n",
      "6/6 [==============================] - 0s 4ms/step - loss: 0.4760 - accuracy: 0.8056 - val_loss: 0.4508 - val_accuracy: 0.8333\n",
      "Epoch 26/50\n",
      "6/6 [==============================] - 0s 4ms/step - loss: 0.4687 - accuracy: 0.8056 - val_loss: 0.4445 - val_accuracy: 0.8333\n",
      "Epoch 27/50\n",
      "6/6 [==============================] - 0s 4ms/step - loss: 0.4622 - accuracy: 0.8056 - val_loss: 0.4379 - val_accuracy: 0.8333\n",
      "Epoch 28/50\n",
      "6/6 [==============================] - 0s 4ms/step - loss: 0.4555 - accuracy: 0.8056 - val_loss: 0.4315 - val_accuracy: 0.8333\n",
      "Epoch 29/50\n",
      "6/6 [==============================] - 0s 4ms/step - loss: 0.4498 - accuracy: 0.8056 - val_loss: 0.4262 - val_accuracy: 0.8333\n",
      "Epoch 30/50\n",
      "6/6 [==============================] - 0s 5ms/step - loss: 0.4437 - accuracy: 0.8194 - val_loss: 0.4208 - val_accuracy: 0.8333\n",
      "Epoch 31/50\n",
      "6/6 [==============================] - 0s 4ms/step - loss: 0.4381 - accuracy: 0.8194 - val_loss: 0.4152 - val_accuracy: 0.8333\n",
      "Epoch 32/50\n",
      "6/6 [==============================] - 0s 4ms/step - loss: 0.4326 - accuracy: 0.8194 - val_loss: 0.4096 - val_accuracy: 0.8333\n",
      "Epoch 33/50\n",
      "6/6 [==============================] - 0s 4ms/step - loss: 0.4263 - accuracy: 0.8194 - val_loss: 0.4050 - val_accuracy: 0.8333\n",
      "Epoch 34/50\n",
      "6/6 [==============================] - 0s 4ms/step - loss: 0.4212 - accuracy: 0.8194 - val_loss: 0.4005 - val_accuracy: 0.8333\n",
      "Epoch 35/50\n",
      "6/6 [==============================] - 0s 5ms/step - loss: 0.4165 - accuracy: 0.8194 - val_loss: 0.3970 - val_accuracy: 0.8333\n",
      "Epoch 36/50\n",
      "6/6 [==============================] - 0s 4ms/step - loss: 0.4118 - accuracy: 0.8611 - val_loss: 0.3931 - val_accuracy: 0.8333\n",
      "Epoch 37/50\n",
      "6/6 [==============================] - 0s 4ms/step - loss: 0.4074 - accuracy: 0.8889 - val_loss: 0.3895 - val_accuracy: 0.8889\n",
      "Epoch 38/50\n",
      "6/6 [==============================] - 0s 5ms/step - loss: 0.4033 - accuracy: 0.8889 - val_loss: 0.3858 - val_accuracy: 0.8889\n",
      "Epoch 39/50\n",
      "6/6 [==============================] - 0s 5ms/step - loss: 0.3992 - accuracy: 0.8889 - val_loss: 0.3823 - val_accuracy: 0.8889\n",
      "Epoch 40/50\n",
      "6/6 [==============================] - 0s 4ms/step - loss: 0.3949 - accuracy: 0.8889 - val_loss: 0.3791 - val_accuracy: 0.8889\n",
      "Epoch 41/50\n",
      "6/6 [==============================] - 0s 4ms/step - loss: 0.3906 - accuracy: 0.8889 - val_loss: 0.3763 - val_accuracy: 0.8889\n",
      "Epoch 42/50\n",
      "6/6 [==============================] - 0s 4ms/step - loss: 0.3870 - accuracy: 0.8889 - val_loss: 0.3734 - val_accuracy: 0.9444\n",
      "Epoch 43/50\n",
      "6/6 [==============================] - 0s 6ms/step - loss: 0.3830 - accuracy: 0.8889 - val_loss: 0.3703 - val_accuracy: 0.9444\n",
      "Epoch 44/50\n",
      "6/6 [==============================] - 0s 4ms/step - loss: 0.3796 - accuracy: 0.8889 - val_loss: 0.3673 - val_accuracy: 0.9444\n",
      "Epoch 45/50\n",
      "6/6 [==============================] - 0s 5ms/step - loss: 0.3763 - accuracy: 0.8889 - val_loss: 0.3646 - val_accuracy: 0.9444\n",
      "Epoch 46/50\n",
      "6/6 [==============================] - 0s 4ms/step - loss: 0.3732 - accuracy: 0.9167 - val_loss: 0.3624 - val_accuracy: 0.9444\n",
      "Epoch 47/50\n",
      "6/6 [==============================] - 0s 4ms/step - loss: 0.3698 - accuracy: 0.9444 - val_loss: 0.3604 - val_accuracy: 0.9444\n",
      "Epoch 48/50\n",
      "6/6 [==============================] - 0s 4ms/step - loss: 0.3669 - accuracy: 0.9444 - val_loss: 0.3584 - val_accuracy: 0.9444\n",
      "Epoch 49/50\n",
      "6/6 [==============================] - 0s 4ms/step - loss: 0.3639 - accuracy: 0.9444 - val_loss: 0.3564 - val_accuracy: 0.9444\n",
      "Epoch 50/50\n",
      "6/6 [==============================] - 0s 4ms/step - loss: 0.3609 - accuracy: 0.9444 - val_loss: 0.3552 - val_accuracy: 0.9444\n"
     ]
    }
   ],
   "source": [
    "history = model.fit(X_trains,y_train,epochs=50,batch_size=12,validation_split=0.2)"
   ]
  },
  {
   "cell_type": "markdown",
   "id": "f817914b",
   "metadata": {},
   "source": [
    "### Plotting Decision Regions:\n",
    "- The mlxtend library is used to plot the decision regions of the model using the training data (X_trains and y_train). \n",
    "- The plot shows how the model separates different classes in the input space."
   ]
  },
  {
   "cell_type": "code",
   "execution_count": 44,
   "id": "83698eac",
   "metadata": {},
   "outputs": [],
   "source": [
    "from mlxtend.plotting import plot_decision_regions as pt"
   ]
  },
  {
   "cell_type": "code",
   "execution_count": 45,
   "id": "b89feb21",
   "metadata": {},
   "outputs": [
    {
     "data": {
      "image/png": "[encoded data removed]",
      "text/plain": [
       "<Figure size 900x600 with 1 Axes>"
      ]
     },
     "metadata": {
      "needs_background": "light"
     },
     "output_type": "display_data"
    }
   ],
   "source": [
    "\n",
    "plt.figure(figsize=(6,4),dpi=150)\n",
    "pt(X_trains,y_train.values.astype(int),clf=model)\n",
    "plt.title(\"X_train Decision regions\")\n",
    "plt.xlabel(\"X_train\",color='black')\n",
    "plt.ylabel(\"y_train\",color='black')\n",
    "plt.show()"
   ]
  },
  {
   "cell_type": "markdown",
   "id": "70fd6125",
   "metadata": {},
   "source": [
    "\n",
    "### Prediction: \n",
    "The model is used to predict the outputs for the test data (X_tests), and the predictions are thresholded at 0.5 to obtain binary predictions (0 or 1).\n"
   ]
  },
  {
   "cell_type": "code",
   "execution_count": 46,
   "id": "ad6f4a7a",
   "metadata": {},
   "outputs": [],
   "source": [
    "y_pred = model.predict(X_tests)"
   ]
  },
  {
   "cell_type": "code",
   "execution_count": 47,
   "id": "c81ba809",
   "metadata": {},
   "outputs": [],
   "source": [
    "y_predf = np.array([1 if x>0.5 else 0 for x in y_pred])"
   ]
  },
  {
   "cell_type": "markdown",
   "id": "148b512d",
   "metadata": {},
   "source": [
    "#### Computing the accuracy of the predictions is calculated using the accuracy_score function from scikit-learn by comparing the predicted values (y_predf) with the true values (y_test)."
   ]
  },
  {
   "cell_type": "code",
   "execution_count": 48,
   "id": "0c752c06",
   "metadata": {},
   "outputs": [
    {
     "data": {
      "text/plain": [
       "0.9"
      ]
     },
     "execution_count": 48,
     "metadata": {},
     "output_type": "execute_result"
    }
   ],
   "source": [
    "from sklearn.metrics import accuracy_score\n",
    "accuracy_score(y_test,y_predf)"
   ]
  },
  {
   "cell_type": "markdown",
   "id": "993c6c59",
   "metadata": {},
   "source": [
    "### Plotting Loss Curve: \n",
    "- The training loss and validation loss from the training history are plotted using Matplotlib. \n",
    "- This can help visualize the convergence and overfitting of the model during training."
   ]
  },
  {
   "cell_type": "code",
   "execution_count": 49,
   "id": "847c516d",
   "metadata": {},
   "outputs": [
    {
     "data": {
      "text/plain": [
       "[<matplotlib.lines.Line2D at 0x1d82c20e4c0>]"
      ]
     },
     "execution_count": 49,
     "metadata": {},
     "output_type": "execute_result"
    },
    {
     "data": {
      "image/png": "[encoded data removed]",
      "text/plain": [
       "<Figure size 432x288 with 1 Axes>"
      ]
     },
     "metadata": {
      "needs_background": "light"
     },
     "output_type": "display_data"
    }
   ],
   "source": [
    "plt.plot(history.history['loss'])\n",
    "plt.plot(history.history['val_loss'])"
   ]
  },
  {
   "cell_type": "markdown",
   "id": "3ced1ed4",
   "metadata": {},
   "source": [
    "### Plotting Decision Regions for Test Data:\n",
    "The decision regions of the model are plotted using the test data (X_tests and y_predf) to visualize how the model classifies the test samples."
   ]
  },
  {
   "cell_type": "code",
   "execution_count": 52,
   "id": "7fa2d303",
   "metadata": {},
   "outputs": [
    {
     "data": {
      "image/png": "[encoded data removed]",
      "text/plain": [
       "<Figure size 900x600 with 1 Axes>"
      ]
     },
     "metadata": {
      "needs_background": "light"
     },
     "output_type": "display_data"
    }
   ],
   "source": [
    "plt.figure(figsize=(6,4),dpi=150)\n",
    "pt(X_tests,y_predf.astype(int),clf=model)\n",
    "plt.title(\"X_test Decision regions\")\n",
    "plt.xlabel(\"X_test\")\n",
    "plt.ylabel(\"y_test\")\n",
    "plt.show()"
   ]
  },
  {
   "cell_type": "code",
   "execution_count": null,
   "id": "6988e188",
   "metadata": {},
   "outputs": [],
   "source": []
  }
 ],
 "metadata": {
  "kernelspec": {
   "display_name": "Python 3 (ipykernel)",
   "language": "python",
   "name": "python3"
  },
  "language_info": {
   "codemirror_mode": {
    "name": "ipython",
    "version": 3
   },
   "file_extension": ".py",
   "mimetype": "text/x-python",
   "name": "python",
   "nbconvert_exporter": "python",
   "pygments_lexer": "ipython3",
   "version": "3.9.12"
  }
 },
 "nbformat": 4,
 "nbformat_minor": 5
}
