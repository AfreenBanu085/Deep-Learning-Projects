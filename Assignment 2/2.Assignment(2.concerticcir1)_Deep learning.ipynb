{
 "cells": [
  {
   "cell_type": "markdown",
   "id": "078d5d16",
   "metadata": {},
   "source": [
    "### Documentation:\n",
    "#### Data Set:2.concerticcir1\n",
    "\n",
    "\n",
    "### Data Description:\n",
    "\n",
    "- The dataset consists of three columns and 100 rows which includes two feature columns and one label column.\n",
    "- Features columns are in the form of float and continuous values ranges from [-1.131849 to 1.129808] and [-1.289427 to 1.073060] and the means are at [-0.010872 and -0.019289].\n",
    "- Whereas label is in the form discreate numerical float values that includes [0.0 and 1.o]. 50% of the data consists of 0 and rest consists of 1 as labels.\n",
    "- There are zero duplicates and no null values consists in the dataset.\n",
    "- Pattern that is formed by the input features is concentrc circles. That means both the circles have common center,one circle consists of labels as 0 and the other consists of 1."
   ]
  },
  {
   "cell_type": "markdown",
   "id": "0dcdaaa1",
   "metadata": {},
   "source": [
    "### Importing Libraries: The required libraries are imported at the beginning of the code."
   ]
  },
  {
   "cell_type": "code",
   "execution_count": 2,
   "id": "ffeb1ed1",
   "metadata": {},
   "outputs": [],
   "source": [
    "import pandas as pd\n",
    "import numpy as np\n",
    "import matplotlib.pyplot as plt\n",
    "import seaborn as sns "
   ]
  },
  {
   "cell_type": "markdown",
   "id": "c94a97fd",
   "metadata": {},
   "source": [
    "### Loading the Dataset:\n",
    "The code reads a CSV file using Pandas, assuming the file is located at\"C:\\\\Users\\\\dell\\\\Downloads\\\\Deep Learning data\\\\2.concerticcir1.csv\". The dataset is stored in the DataFrame df."
   ]
  },
  {
   "cell_type": "code",
   "execution_count": 3,
   "id": "677ff840",
   "metadata": {},
   "outputs": [
    {
     "data": {
      "text/html": [
       "<div>\n",
       "<style scoped>\n",
       "    .dataframe tbody tr th:only-of-type {\n",
       "        vertical-align: middle;\n",
       "    }\n",
       "\n",
       "    .dataframe tbody tr th {\n",
       "        vertical-align: top;\n",
       "    }\n",
       "\n",
       "    .dataframe thead th {\n",
       "        text-align: right;\n",
       "    }\n",
       "</style>\n",
       "<table border=\"1\" class=\"dataframe\">\n",
       "  <thead>\n",
       "    <tr style=\"text-align: right;\">\n",
       "      <th></th>\n",
       "      <th>0</th>\n",
       "      <th>1</th>\n",
       "      <th>2</th>\n",
       "    </tr>\n",
       "  </thead>\n",
       "  <tbody>\n",
       "    <tr>\n",
       "      <th>0</th>\n",
       "      <td>-0.382891</td>\n",
       "      <td>-0.090840</td>\n",
       "      <td>1.0</td>\n",
       "    </tr>\n",
       "    <tr>\n",
       "      <th>1</th>\n",
       "      <td>-0.020962</td>\n",
       "      <td>-0.477874</td>\n",
       "      <td>1.0</td>\n",
       "    </tr>\n",
       "    <tr>\n",
       "      <th>2</th>\n",
       "      <td>-0.396116</td>\n",
       "      <td>-1.289427</td>\n",
       "      <td>0.0</td>\n",
       "    </tr>\n",
       "    <tr>\n",
       "      <th>3</th>\n",
       "      <td>-0.618130</td>\n",
       "      <td>-0.063837</td>\n",
       "      <td>1.0</td>\n",
       "    </tr>\n",
       "    <tr>\n",
       "      <th>4</th>\n",
       "      <td>0.703478</td>\n",
       "      <td>-0.187038</td>\n",
       "      <td>1.0</td>\n",
       "    </tr>\n",
       "  </tbody>\n",
       "</table>\n",
       "</div>"
      ],
      "text/plain": [
       "          0         1    2\n",
       "0 -0.382891 -0.090840  1.0\n",
       "1 -0.020962 -0.477874  1.0\n",
       "2 -0.396116 -1.289427  0.0\n",
       "3 -0.618130 -0.063837  1.0\n",
       "4  0.703478 -0.187038  1.0"
      ]
     },
     "execution_count": 3,
     "metadata": {},
     "output_type": "execute_result"
    }
   ],
   "source": [
    "df = pd.read_csv(\"C:\\\\Users\\\\dell\\\\Downloads\\\\Deep Learning data\\\\2.concerticcir1.csv\",header = None)\n",
    "df.head()"
   ]
  },
  {
   "cell_type": "markdown",
   "id": "0fe7f794",
   "metadata": {},
   "source": [
    "#### Gives the dimensions of the dataset (number of rows, number of columns)."
   ]
  },
  {
   "cell_type": "code",
   "execution_count": 4,
   "id": "b70de55e",
   "metadata": {},
   "outputs": [
    {
     "data": {
      "text/plain": [
       "(100, 3)"
      ]
     },
     "execution_count": 4,
     "metadata": {},
     "output_type": "execute_result"
    }
   ],
   "source": [
    "df.shape"
   ]
  },
  {
   "cell_type": "markdown",
   "id": "122da9eb",
   "metadata": {},
   "source": [
    "#### Provides information about the dataset, including the data types of each column and the number of non-null values.\n"
   ]
  },
  {
   "cell_type": "code",
   "execution_count": 5,
   "id": "1e5453b4",
   "metadata": {},
   "outputs": [
    {
     "name": "stdout",
     "output_type": "stream",
     "text": [
      "<class 'pandas.core.frame.DataFrame'>\n",
      "RangeIndex: 100 entries, 0 to 99\n",
      "Data columns (total 3 columns):\n",
      " #   Column  Non-Null Count  Dtype  \n",
      "---  ------  --------------  -----  \n",
      " 0   0       100 non-null    float64\n",
      " 1   1       100 non-null    float64\n",
      " 2   2       100 non-null    float64\n",
      "dtypes: float64(3)\n",
      "memory usage: 2.5 KB\n"
     ]
    }
   ],
   "source": [
    "df.info()"
   ]
  },
  {
   "cell_type": "markdown",
   "id": "29b421d7",
   "metadata": {},
   "source": [
    "#### Generates descriptive statistics of the dataset, such as count, mean, standard deviation, minimum, and maximum values for each numerical column."
   ]
  },
  {
   "cell_type": "code",
   "execution_count": 6,
   "id": "d4b9427d",
   "metadata": {},
   "outputs": [
    {
     "data": {
      "text/html": [
       "<div>\n",
       "<style scoped>\n",
       "    .dataframe tbody tr th:only-of-type {\n",
       "        vertical-align: middle;\n",
       "    }\n",
       "\n",
       "    .dataframe tbody tr th {\n",
       "        vertical-align: top;\n",
       "    }\n",
       "\n",
       "    .dataframe thead th {\n",
       "        text-align: right;\n",
       "    }\n",
       "</style>\n",
       "<table border=\"1\" class=\"dataframe\">\n",
       "  <thead>\n",
       "    <tr style=\"text-align: right;\">\n",
       "      <th></th>\n",
       "      <th>0</th>\n",
       "      <th>1</th>\n",
       "      <th>2</th>\n",
       "    </tr>\n",
       "  </thead>\n",
       "  <tbody>\n",
       "    <tr>\n",
       "      <th>count</th>\n",
       "      <td>100.000000</td>\n",
       "      <td>100.000000</td>\n",
       "      <td>100.000000</td>\n",
       "    </tr>\n",
       "    <tr>\n",
       "      <th>mean</th>\n",
       "      <td>-0.010872</td>\n",
       "      <td>-0.019289</td>\n",
       "      <td>0.500000</td>\n",
       "    </tr>\n",
       "    <tr>\n",
       "      <th>std</th>\n",
       "      <td>0.577796</td>\n",
       "      <td>0.542785</td>\n",
       "      <td>0.502519</td>\n",
       "    </tr>\n",
       "    <tr>\n",
       "      <th>min</th>\n",
       "      <td>-1.131849</td>\n",
       "      <td>-1.289427</td>\n",
       "      <td>0.000000</td>\n",
       "    </tr>\n",
       "    <tr>\n",
       "      <th>25%</th>\n",
       "      <td>-0.450428</td>\n",
       "      <td>-0.433372</td>\n",
       "      <td>0.000000</td>\n",
       "    </tr>\n",
       "    <tr>\n",
       "      <th>50%</th>\n",
       "      <td>-0.030343</td>\n",
       "      <td>-0.030291</td>\n",
       "      <td>0.500000</td>\n",
       "    </tr>\n",
       "    <tr>\n",
       "      <th>75%</th>\n",
       "      <td>0.425418</td>\n",
       "      <td>0.420430</td>\n",
       "      <td>1.000000</td>\n",
       "    </tr>\n",
       "    <tr>\n",
       "      <th>max</th>\n",
       "      <td>1.129808</td>\n",
       "      <td>1.073060</td>\n",
       "      <td>1.000000</td>\n",
       "    </tr>\n",
       "  </tbody>\n",
       "</table>\n",
       "</div>"
      ],
      "text/plain": [
       "                0           1           2\n",
       "count  100.000000  100.000000  100.000000\n",
       "mean    -0.010872   -0.019289    0.500000\n",
       "std      0.577796    0.542785    0.502519\n",
       "min     -1.131849   -1.289427    0.000000\n",
       "25%     -0.450428   -0.433372    0.000000\n",
       "50%     -0.030343   -0.030291    0.500000\n",
       "75%      0.425418    0.420430    1.000000\n",
       "max      1.129808    1.073060    1.000000"
      ]
     },
     "execution_count": 6,
     "metadata": {},
     "output_type": "execute_result"
    }
   ],
   "source": [
    "df.describe()"
   ]
  },
  {
   "cell_type": "code",
   "execution_count": 7,
   "id": "9f14f1f4",
   "metadata": {},
   "outputs": [
    {
     "data": {
      "text/plain": [
       "0    0\n",
       "1    0\n",
       "2    0\n",
       "dtype: int64"
      ]
     },
     "execution_count": 7,
     "metadata": {},
     "output_type": "execute_result"
    }
   ],
   "source": [
    "df.isna().sum()"
   ]
  },
  {
   "cell_type": "code",
   "execution_count": 8,
   "id": "63c63332",
   "metadata": {},
   "outputs": [
    {
     "data": {
      "text/plain": [
       "0"
      ]
     },
     "execution_count": 8,
     "metadata": {},
     "output_type": "execute_result"
    }
   ],
   "source": [
    "df.duplicated().sum()"
   ]
  },
  {
   "cell_type": "code",
   "execution_count": 9,
   "id": "f5293da8",
   "metadata": {},
   "outputs": [
    {
     "data": {
      "text/plain": [
       "1.0    50\n",
       "0.0    50\n",
       "Name: 2, dtype: int64"
      ]
     },
     "execution_count": 9,
     "metadata": {},
     "output_type": "execute_result"
    }
   ],
   "source": [
    "df[2].value_counts()"
   ]
  },
  {
   "cell_type": "markdown",
   "id": "d65f62c8",
   "metadata": {},
   "source": [
    "### Data Visualization:\n",
    "A scatter plot is created using Seaborn to visualize the data points, where the x-axis represents df[0], the y-axis represents df[1], and the color of the points is determined by df[2]"
   ]
  },
  {
   "cell_type": "code",
   "execution_count": 10,
   "id": "5e41a303",
   "metadata": {},
   "outputs": [
    {
     "name": "stderr",
     "output_type": "stream",
     "text": [
      "C:\\Users\\dell\\anaconda3\\lib\\site-packages\\seaborn\\_decorators.py:36: FutureWarning: Pass the following variables as keyword args: x, y. From version 0.12, the only valid positional argument will be `data`, and passing other arguments without an explicit keyword will result in an error or misinterpretation.\n",
      "  warnings.warn(\n"
     ]
    },
    {
     "data": {
      "text/plain": [
       "<AxesSubplot:xlabel='0', ylabel='1'>"
      ]
     },
     "execution_count": 10,
     "metadata": {},
     "output_type": "execute_result"
    },
    {
     "data": {
      "image/png": "[encoded data removed]",
      "text/plain": [
       "<Figure size 432x288 with 1 Axes>"
      ]
     },
     "metadata": {
      "needs_background": "light"
     },
     "output_type": "display_data"
    }
   ],
   "source": [
    "sns.scatterplot(df[0],df[1],hue = df[2])"
   ]
  },
  {
   "cell_type": "markdown",
   "id": "f1de2011",
   "metadata": {},
   "source": [
    "### Train-Test Split:\n",
    "The dataset is split into training and testing sets using the train_test_split function from scikit-learn. The features (x_train, x_test) consist of columns 0 and 1 from the DataFrame, while the target variables (y_train, y_test) correspond to column 2. The testing set size is set to 20% of the total dataset."
   ]
  },
  {
   "cell_type": "code",
   "execution_count": 11,
   "id": "b9925d1c",
   "metadata": {},
   "outputs": [],
   "source": [
    "from sklearn.model_selection import train_test_split\n",
    "X_train,X_test,y_train,y_test=train_test_split(df[[0,1]],df[2],test_size=0.1)"
   ]
  },
  {
   "cell_type": "markdown",
   "id": "d0b6910c",
   "metadata": {},
   "source": [
    "### Data Preprocessing:\n",
    "The features are standardized using scikit-learn's StandardScaler. The fit_transform method is applied to the training set (x_train), and the transform method is applied to the testing set (x_test)."
   ]
  },
  {
   "cell_type": "code",
   "execution_count": 12,
   "id": "0c716a89",
   "metadata": {},
   "outputs": [],
   "source": [
    "from sklearn.preprocessing import StandardScaler\n",
    "std=StandardScaler()\n",
    "X_trains=std.fit_transform(X_train)\n",
    "X_tests=std.transform(X_test)"
   ]
  },
  {
   "cell_type": "markdown",
   "id": "ba5156be",
   "metadata": {},
   "source": [
    "### Importing necessary libraries:\n",
    "- TensorFlow and Keras are libraries.\n",
    "- Sequential is a linear stack of neural network layers.\n",
    "- Dense represents a fully connected layer."
   ]
  },
  {
   "cell_type": "code",
   "execution_count": 95,
   "id": "be0bdcf2",
   "metadata": {},
   "outputs": [],
   "source": [
    "import tensorflow\n",
    "from tensorflow import keras\n",
    "from keras.models import Sequential\n",
    "from keras.layers import Dense"
   ]
  },
  {
   "cell_type": "code",
   "execution_count": null,
   "id": "c2f2ecce",
   "metadata": {},
   "outputs": [],
   "source": []
  },
  {
   "cell_type": "code",
   "execution_count": 110,
   "id": "aa5c278e",
   "metadata": {},
   "outputs": [],
   "source": [
    "model=Sequential()\n",
    "model.add(Dense(5,activation=\"relu\",kernel_initializer='he_uniform',input_dim=2))\n",
    "\n",
    "model.add(Dense(3,activation=\"relu\",kernel_initializer='he_uniform'))\n",
    "\n",
    "model.add(Dense(1,activation=\"sigmoid\"))"
   ]
  },
  {
   "cell_type": "markdown",
   "id": "b572d94b",
   "metadata": {},
   "source": [
    "### Model Architecture:\n",
    "\n",
    "- The model is defined as a Sequential model, which is a linear stack of layers.\n",
    "- The first layer is a Dense layer with 5 units, ReLU activation function, He uniform kernel initializer, and an input dimension of 2.\n",
    "- The second layer is another Dense layer with 3 units, ReLU activation, and He uniform kernel initializer.\n",
    "- The last layer is a Dense layer with 1 unit and sigmoid activation function."
   ]
  },
  {
   "cell_type": "markdown",
   "id": "c482156c",
   "metadata": {},
   "source": [
    "### Model Summary:\n",
    "\n",
    "The summary method is called on the model to display the summary of the model architecture, including the layer type, output shape, and number of parameters."
   ]
  },
  {
   "cell_type": "code",
   "execution_count": 111,
   "id": "8e8cab0e",
   "metadata": {},
   "outputs": [
    {
     "name": "stdout",
     "output_type": "stream",
     "text": [
      "Model: \"sequential_10\"\n",
      "_________________________________________________________________\n",
      " Layer (type)                Output Shape              Param #   \n",
      "=================================================================\n",
      " dense_34 (Dense)            (None, 5)                 15        \n",
      "                                                                 \n",
      " dense_35 (Dense)            (None, 3)                 18        \n",
      "                                                                 \n",
      " dense_36 (Dense)            (None, 1)                 4         \n",
      "                                                                 \n",
      "=================================================================\n",
      "Total params: 37\n",
      "Trainable params: 37\n",
      "Non-trainable params: 0\n",
      "_________________________________________________________________\n"
     ]
    }
   ],
   "source": [
    "model.summary()"
   ]
  },
  {
   "cell_type": "markdown",
   "id": "e8f341c5",
   "metadata": {},
   "source": [
    "### Compilation:\n",
    "\n",
    "The model is compiled with the Adam optimizer, binary cross-entropy loss function, and accuracy metric."
   ]
  },
  {
   "cell_type": "code",
   "execution_count": 112,
   "id": "e90b4fe3",
   "metadata": {},
   "outputs": [],
   "source": [
    "model.compile(optimizer=\"Adam\",loss=\"binary_crossentropy\",metrics=[\"accuracy\"])"
   ]
  },
  {
   "cell_type": "markdown",
   "id": "e1cb6856",
   "metadata": {},
   "source": [
    "### Model Training:\n",
    "\n",
    "- The model is trained using the fit method on the training data X_trains and y_train.\n",
    "- The training is performed for 50 epochs with a batch size of 10 and a validation split of 0.2."
   ]
  },
  {
   "cell_type": "code",
   "execution_count": 113,
   "id": "1b83098d",
   "metadata": {},
   "outputs": [
    {
     "name": "stdout",
     "output_type": "stream",
     "text": [
      "Epoch 1/50\n",
      "8/8 [==============================] - 0s 15ms/step - loss: 0.6812 - accuracy: 0.4444 - val_loss: 0.5973 - val_accuracy: 0.5000\n",
      "Epoch 2/50\n",
      "8/8 [==============================] - 0s 3ms/step - loss: 0.6781 - accuracy: 0.4444 - val_loss: 0.5967 - val_accuracy: 0.5556\n",
      "Epoch 3/50\n",
      "8/8 [==============================] - 0s 3ms/step - loss: 0.6760 - accuracy: 0.4444 - val_loss: 0.5966 - val_accuracy: 0.5556\n",
      "Epoch 4/50\n",
      "8/8 [==============================] - 0s 3ms/step - loss: 0.6743 - accuracy: 0.4444 - val_loss: 0.5953 - val_accuracy: 0.5556\n",
      "Epoch 5/50\n",
      "8/8 [==============================] - 0s 3ms/step - loss: 0.6718 - accuracy: 0.4583 - val_loss: 0.5937 - val_accuracy: 0.5556\n",
      "Epoch 6/50\n",
      "8/8 [==============================] - 0s 3ms/step - loss: 0.6703 - accuracy: 0.4583 - val_loss: 0.5910 - val_accuracy: 0.5556\n",
      "Epoch 7/50\n",
      "8/8 [==============================] - 0s 3ms/step - loss: 0.6688 - accuracy: 0.4444 - val_loss: 0.5889 - val_accuracy: 0.5556\n",
      "Epoch 8/50\n",
      "8/8 [==============================] - 0s 3ms/step - loss: 0.6673 - accuracy: 0.4444 - val_loss: 0.5877 - val_accuracy: 0.5556\n",
      "Epoch 9/50\n",
      "8/8 [==============================] - 0s 3ms/step - loss: 0.6652 - accuracy: 0.4583 - val_loss: 0.5863 - val_accuracy: 0.5556\n",
      "Epoch 10/50\n",
      "8/8 [==============================] - 0s 3ms/step - loss: 0.6640 - accuracy: 0.4583 - val_loss: 0.5850 - val_accuracy: 0.5556\n",
      "Epoch 11/50\n",
      "8/8 [==============================] - 0s 3ms/step - loss: 0.6621 - accuracy: 0.4722 - val_loss: 0.5850 - val_accuracy: 0.5556\n",
      "Epoch 12/50\n",
      "8/8 [==============================] - 0s 3ms/step - loss: 0.6606 - accuracy: 0.4722 - val_loss: 0.5849 - val_accuracy: 0.5556\n",
      "Epoch 13/50\n",
      "8/8 [==============================] - 0s 3ms/step - loss: 0.6591 - accuracy: 0.5000 - val_loss: 0.5837 - val_accuracy: 0.5556\n",
      "Epoch 14/50\n",
      "8/8 [==============================] - 0s 3ms/step - loss: 0.6580 - accuracy: 0.5000 - val_loss: 0.5837 - val_accuracy: 0.5556\n",
      "Epoch 15/50\n",
      "8/8 [==============================] - 0s 3ms/step - loss: 0.6568 - accuracy: 0.5000 - val_loss: 0.5831 - val_accuracy: 0.5556\n",
      "Epoch 16/50\n",
      "8/8 [==============================] - 0s 3ms/step - loss: 0.6556 - accuracy: 0.5139 - val_loss: 0.5818 - val_accuracy: 0.5556\n",
      "Epoch 17/50\n",
      "8/8 [==============================] - 0s 3ms/step - loss: 0.6545 - accuracy: 0.5278 - val_loss: 0.5811 - val_accuracy: 0.5556\n",
      "Epoch 18/50\n",
      "8/8 [==============================] - 0s 3ms/step - loss: 0.6529 - accuracy: 0.5278 - val_loss: 0.5792 - val_accuracy: 0.5556\n",
      "Epoch 19/50\n",
      "8/8 [==============================] - 0s 3ms/step - loss: 0.6515 - accuracy: 0.5417 - val_loss: 0.5793 - val_accuracy: 0.6111\n",
      "Epoch 20/50\n",
      "8/8 [==============================] - 0s 3ms/step - loss: 0.6499 - accuracy: 0.5694 - val_loss: 0.5797 - val_accuracy: 0.6111\n",
      "Epoch 21/50\n",
      "8/8 [==============================] - 0s 3ms/step - loss: 0.6489 - accuracy: 0.5694 - val_loss: 0.5798 - val_accuracy: 0.6111\n",
      "Epoch 22/50\n",
      "8/8 [==============================] - 0s 3ms/step - loss: 0.6473 - accuracy: 0.5556 - val_loss: 0.5784 - val_accuracy: 0.6111\n",
      "Epoch 23/50\n",
      "8/8 [==============================] - 0s 3ms/step - loss: 0.6462 - accuracy: 0.5694 - val_loss: 0.5768 - val_accuracy: 0.6111\n",
      "Epoch 24/50\n",
      "8/8 [==============================] - 0s 3ms/step - loss: 0.6447 - accuracy: 0.5694 - val_loss: 0.5769 - val_accuracy: 0.6111\n",
      "Epoch 25/50\n",
      "8/8 [==============================] - 0s 3ms/step - loss: 0.6433 - accuracy: 0.5556 - val_loss: 0.5771 - val_accuracy: 0.6111\n",
      "Epoch 26/50\n",
      "8/8 [==============================] - 0s 4ms/step - loss: 0.6421 - accuracy: 0.5556 - val_loss: 0.5770 - val_accuracy: 0.6111\n",
      "Epoch 27/50\n",
      "8/8 [==============================] - 0s 3ms/step - loss: 0.6408 - accuracy: 0.5556 - val_loss: 0.5760 - val_accuracy: 0.6111\n",
      "Epoch 28/50\n",
      "8/8 [==============================] - 0s 4ms/step - loss: 0.6393 - accuracy: 0.5556 - val_loss: 0.5756 - val_accuracy: 0.6111\n",
      "Epoch 29/50\n",
      "8/8 [==============================] - 0s 4ms/step - loss: 0.6379 - accuracy: 0.5694 - val_loss: 0.5762 - val_accuracy: 0.6111\n",
      "Epoch 30/50\n",
      "8/8 [==============================] - 0s 4ms/step - loss: 0.6363 - accuracy: 0.5694 - val_loss: 0.5745 - val_accuracy: 0.6111\n",
      "Epoch 31/50\n",
      "8/8 [==============================] - 0s 3ms/step - loss: 0.6349 - accuracy: 0.5833 - val_loss: 0.5728 - val_accuracy: 0.6667\n",
      "Epoch 32/50\n",
      "8/8 [==============================] - 0s 3ms/step - loss: 0.6335 - accuracy: 0.5972 - val_loss: 0.5715 - val_accuracy: 0.6667\n",
      "Epoch 33/50\n",
      "8/8 [==============================] - 0s 4ms/step - loss: 0.6325 - accuracy: 0.6111 - val_loss: 0.5711 - val_accuracy: 0.6667\n",
      "Epoch 34/50\n",
      "8/8 [==============================] - 0s 3ms/step - loss: 0.6308 - accuracy: 0.6250 - val_loss: 0.5698 - val_accuracy: 0.6667\n",
      "Epoch 35/50\n",
      "8/8 [==============================] - 0s 3ms/step - loss: 0.6302 - accuracy: 0.6389 - val_loss: 0.5673 - val_accuracy: 0.6667\n",
      "Epoch 36/50\n",
      "8/8 [==============================] - 0s 3ms/step - loss: 0.6286 - accuracy: 0.6389 - val_loss: 0.5659 - val_accuracy: 0.6667\n",
      "Epoch 37/50\n",
      "8/8 [==============================] - 0s 3ms/step - loss: 0.6275 - accuracy: 0.6389 - val_loss: 0.5652 - val_accuracy: 0.6667\n",
      "Epoch 38/50\n",
      "8/8 [==============================] - 0s 3ms/step - loss: 0.6262 - accuracy: 0.6528 - val_loss: 0.5622 - val_accuracy: 0.6667\n",
      "Epoch 39/50\n",
      "8/8 [==============================] - 0s 3ms/step - loss: 0.6253 - accuracy: 0.6528 - val_loss: 0.5594 - val_accuracy: 0.6667\n",
      "Epoch 40/50\n",
      "8/8 [==============================] - 0s 3ms/step - loss: 0.6242 - accuracy: 0.6667 - val_loss: 0.5576 - val_accuracy: 0.6667\n",
      "Epoch 41/50\n",
      "8/8 [==============================] - 0s 3ms/step - loss: 0.6231 - accuracy: 0.6528 - val_loss: 0.5578 - val_accuracy: 0.6667\n",
      "Epoch 42/50\n",
      "8/8 [==============================] - 0s 3ms/step - loss: 0.6221 - accuracy: 0.6528 - val_loss: 0.5579 - val_accuracy: 0.6667\n",
      "Epoch 43/50\n",
      "8/8 [==============================] - 0s 3ms/step - loss: 0.6209 - accuracy: 0.6528 - val_loss: 0.5572 - val_accuracy: 0.6667\n",
      "Epoch 44/50\n",
      "8/8 [==============================] - 0s 3ms/step - loss: 0.6199 - accuracy: 0.6528 - val_loss: 0.5567 - val_accuracy: 0.6667\n",
      "Epoch 45/50\n",
      "8/8 [==============================] - 0s 3ms/step - loss: 0.6188 - accuracy: 0.6667 - val_loss: 0.5540 - val_accuracy: 0.6667\n",
      "Epoch 46/50\n",
      "8/8 [==============================] - 0s 3ms/step - loss: 0.6177 - accuracy: 0.6667 - val_loss: 0.5536 - val_accuracy: 0.6667\n",
      "Epoch 47/50\n",
      "8/8 [==============================] - 0s 3ms/step - loss: 0.6165 - accuracy: 0.6667 - val_loss: 0.5522 - val_accuracy: 0.7222\n",
      "Epoch 48/50\n",
      "8/8 [==============================] - 0s 3ms/step - loss: 0.6155 - accuracy: 0.6667 - val_loss: 0.5513 - val_accuracy: 0.7222\n",
      "Epoch 49/50\n",
      "8/8 [==============================] - 0s 3ms/step - loss: 0.6141 - accuracy: 0.6806 - val_loss: 0.5499 - val_accuracy: 0.7222\n",
      "Epoch 50/50\n",
      "8/8 [==============================] - 0s 3ms/step - loss: 0.6131 - accuracy: 0.6806 - val_loss: 0.5487 - val_accuracy: 0.7222\n"
     ]
    }
   ],
   "source": [
    "history=model.fit(X_trains,y_train,batch_size=10,epochs=50,validation_split=0.2)"
   ]
  },
  {
   "cell_type": "markdown",
   "id": "07875d14",
   "metadata": {},
   "source": [
    "### Decision Regions Plot:\n",
    "\n",
    "The plot_decision_regions function from the mlxtend.plotting library is used to visualize the decision regions of the model based on the training data.\n",
    "The plot is displayed using Matplotlib."
   ]
  },
  {
   "cell_type": "code",
   "execution_count": 114,
   "id": "92008b09",
   "metadata": {},
   "outputs": [],
   "source": [
    "from mlxtend.plotting import plot_decision_regions as pt"
   ]
  },
  {
   "cell_type": "code",
   "execution_count": 115,
   "id": "823de6dd",
   "metadata": {},
   "outputs": [
    {
     "data": {
      "image/png": "[encoded data removed]",
      "text/plain": [
       "<Figure size 600x600 with 1 Axes>"
      ]
     },
     "metadata": {
      "needs_background": "light"
     },
     "output_type": "display_data"
    }
   ],
   "source": [
    "plt.figure(figsize=(4,4),dpi=150)\n",
    "pt(X_trains,y_train.values.astype(int),clf=model)\n",
    "plt.title(\"X_train Decision regions\")\n",
    "plt.xlabel(\"X_train\",color='black')\n",
    "plt.ylabel(\"y_train\",color='black')\n",
    "plt.show()"
   ]
  },
  {
   "cell_type": "markdown",
   "id": "80ab08a6",
   "metadata": {},
   "source": [
    "### Prediction and Evaluation:\n",
    "\n",
    "- The model is used to make predictions on the test data X_tests using the predict method.\n",
    "- The predicted probabilities are converted into binary predictions by setting a threshold of 0.5.\n"
   ]
  },
  {
   "cell_type": "code",
   "execution_count": 116,
   "id": "49382a18",
   "metadata": {},
   "outputs": [],
   "source": [
    "y_pred=model.predict(X_tests)"
   ]
  },
  {
   "cell_type": "code",
   "execution_count": 117,
   "id": "8ce820a0",
   "metadata": {},
   "outputs": [],
   "source": [
    "y_predf = np.array([1 if x>0.5 else 0 for x in y_pred])"
   ]
  },
  {
   "cell_type": "markdown",
   "id": "4c7a6467",
   "metadata": {},
   "source": [
    "#### The accuracy of the model is calculated using the accuracy_score function from sklearn.metrics, comparing the predicted labels y_predf with the actual labels y_test."
   ]
  },
  {
   "cell_type": "code",
   "execution_count": 118,
   "id": "ce9029a9",
   "metadata": {},
   "outputs": [
    {
     "data": {
      "text/plain": [
       "0.7"
      ]
     },
     "execution_count": 118,
     "metadata": {},
     "output_type": "execute_result"
    }
   ],
   "source": [
    "from sklearn.metrics import accuracy_score\n",
    "accuracy_score(y_test,y_predf)"
   ]
  },
  {
   "cell_type": "markdown",
   "id": "13ea23e0",
   "metadata": {},
   "source": [
    "### Loss Plot:\n",
    "\n",
    "A plot is created to visualize the training loss and validation loss over the epochs.\n"
   ]
  },
  {
   "cell_type": "code",
   "execution_count": 119,
   "id": "ba26e500",
   "metadata": {},
   "outputs": [
    {
     "data": {
      "text/plain": [
       "[<matplotlib.lines.Line2D at 0x192bec6e6a0>]"
      ]
     },
     "execution_count": 119,
     "metadata": {},
     "output_type": "execute_result"
    },
    {
     "data": {
      "image/png": "[encoded data removed]",
      "text/plain": [
       "<Figure size 432x288 with 1 Axes>"
      ]
     },
     "metadata": {
      "needs_background": "light"
     },
     "output_type": "display_data"
    }
   ],
   "source": [
    "plt.plot(history.history['loss'])\n",
    "plt.plot(history.history['val_loss'])"
   ]
  },
  {
   "cell_type": "markdown",
   "id": "45a0ef22",
   "metadata": {},
   "source": [
    "### Test Data Decision Regions Plot:\n",
    "\n",
    "- Similar to the training data decision regions plot, the plot_decision_regions function is used to visualize the decision regions of the model based on the test data.\n",
    "- The plot is displayed using Matplotlib."
   ]
  },
  {
   "cell_type": "code",
   "execution_count": 120,
   "id": "aa807cea",
   "metadata": {},
   "outputs": [
    {
     "data": {
      "image/png": "[encoded data removed]",
      "text/plain": [
       "<Figure size 600x600 with 1 Axes>"
      ]
     },
     "metadata": {
      "needs_background": "light"
     },
     "output_type": "display_data"
    }
   ],
   "source": [
    "plt.figure(figsize=(4,4),dpi=150)\n",
    "pt(X_tests.astype(int),y_predf,clf=model)\n",
    "plt.title(\"X_test Decision regions\")\n",
    "plt.xlabel(\"X_test\")\n",
    "plt.ylabel(\"y_test\")\n",
    "plt.show()"
   ]
  },
  {
   "cell_type": "markdown",
   "id": "8ab760c2",
   "metadata": {},
   "source": []
  },
  {
   "cell_type": "code",
   "execution_count": null,
   "id": "0eaea34f",
   "metadata": {},
   "outputs": [],
   "source": []
  }
 ],
 "metadata": {
  "kernelspec": {
   "display_name": "Python 3 (ipykernel)",
   "language": "python",
   "name": "python3"
  },
  "language_info": {
   "codemirror_mode": {
    "name": "ipython",
    "version": 3
   },
   "file_extension": ".py",
   "mimetype": "text/x-python",
   "name": "python",
   "nbconvert_exporter": "python",
   "pygments_lexer": "ipython3",
   "version": "3.9.12"
  }
 },
 "nbformat": 4,
 "nbformat_minor": 5
}
